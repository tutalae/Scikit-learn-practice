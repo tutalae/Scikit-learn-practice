{
  "nbformat": 4,
  "nbformat_minor": 0,
  "metadata": {
    "colab": {
      "name": "Scikit-learn-practice2-Regression bigMc.ipynb",
      "provenance": [],
      "authorship_tag": "ABX9TyNc35oAsSTjTUAXQdS/ytpB",
      "include_colab_link": true
    },
    "kernelspec": {
      "name": "python3",
      "display_name": "Python 3"
    }
  },
  "cells": [
    {
      "cell_type": "markdown",
      "metadata": {
        "id": "view-in-github",
        "colab_type": "text"
      },
      "source": [
        "<a href=\"https://colab.research.google.com/github/tutalae/Scikit-learn-practice/blob/main/Scikit_learn_practice2_Regression_bigMc.ipynb\" target=\"_parent\"><img src=\"https://colab.research.google.com/assets/colab-badge.svg\" alt=\"Open In Colab\"/></a>"
      ]
    },
    {
      "cell_type": "code",
      "metadata": {
        "id": "2NSMUXjd--lX"
      },
      "source": [
        "import pandas as pd\r\n",
        "import seaborn as sns\r\n",
        "import numpy as np\r\n",
        "import matplotlib.pyplot as plt\r\n",
        "%matplotlib inline\r\n",
        "%config InlineBackend.figure_format = \"retina\""
      ],
      "execution_count": 1,
      "outputs": []
    },
    {
      "cell_type": "code",
      "metadata": {
        "colab": {
          "base_uri": "https://localhost:8080/"
        },
        "id": "DV-icZA0_Stj",
        "outputId": "f66c1837-1b53-4dbc-9812-d86dc051bec2"
      },
      "source": [
        "print(f'pandas version: {pd.__version__}')\r\n",
        "print(f'numpy version: {np.__version__}')\r\n",
        "print(f'seaborn version: {sns.__version__}')\r\n"
      ],
      "execution_count": 2,
      "outputs": [
        {
          "output_type": "stream",
          "text": [
            "pandas version: 1.1.5\n",
            "numpy version: 1.19.5\n",
            "seaborn version: 0.11.1\n"
          ],
          "name": "stdout"
        }
      ]
    },
    {
      "cell_type": "code",
      "metadata": {
        "colab": {
          "base_uri": "https://localhost:8080/",
          "height": 204
        },
        "id": "W0ulG-N7_gf3",
        "outputId": "4996a84c-afe0-4c29-ed70-61afd294dbf3"
      },
      "source": [
        "url= \"https://github.com/TheEconomist/big-mac-data/raw/master/output-data/big-mac-adjusted-index.csv\"\r\n",
        "df = pd.read_csv(url, parse_dates = [\"date\"])\r\n",
        "df.head()"
      ],
      "execution_count": 5,
      "outputs": [
        {
          "output_type": "execute_result",
          "data": {
            "text/html": [
              "<div>\n",
              "<style scoped>\n",
              "    .dataframe tbody tr th:only-of-type {\n",
              "        vertical-align: middle;\n",
              "    }\n",
              "\n",
              "    .dataframe tbody tr th {\n",
              "        vertical-align: top;\n",
              "    }\n",
              "\n",
              "    .dataframe thead th {\n",
              "        text-align: right;\n",
              "    }\n",
              "</style>\n",
              "<table border=\"1\" class=\"dataframe\">\n",
              "  <thead>\n",
              "    <tr style=\"text-align: right;\">\n",
              "      <th></th>\n",
              "      <th>date</th>\n",
              "      <th>iso_a3</th>\n",
              "      <th>currency_code</th>\n",
              "      <th>name</th>\n",
              "      <th>local_price</th>\n",
              "      <th>dollar_ex</th>\n",
              "      <th>dollar_price</th>\n",
              "      <th>GDP_dollar</th>\n",
              "      <th>adj_price</th>\n",
              "      <th>USD</th>\n",
              "      <th>EUR</th>\n",
              "      <th>GBP</th>\n",
              "      <th>JPY</th>\n",
              "      <th>CNY</th>\n",
              "    </tr>\n",
              "  </thead>\n",
              "  <tbody>\n",
              "    <tr>\n",
              "      <th>0</th>\n",
              "      <td>2011-07-01</td>\n",
              "      <td>ARG</td>\n",
              "      <td>ARS</td>\n",
              "      <td>Argentina</td>\n",
              "      <td>20.00</td>\n",
              "      <td>4.132500</td>\n",
              "      <td>4.839685</td>\n",
              "      <td>9138.177</td>\n",
              "      <td>3.149757</td>\n",
              "      <td>1.01089</td>\n",
              "      <td>0.47526</td>\n",
              "      <td>0.84970</td>\n",
              "      <td>0.90626</td>\n",
              "      <td>0.94622</td>\n",
              "    </tr>\n",
              "    <tr>\n",
              "      <th>1</th>\n",
              "      <td>2011-07-01</td>\n",
              "      <td>AUS</td>\n",
              "      <td>AUD</td>\n",
              "      <td>Australia</td>\n",
              "      <td>4.56</td>\n",
              "      <td>0.922382</td>\n",
              "      <td>4.943724</td>\n",
              "      <td>55589.549</td>\n",
              "      <td>5.792526</td>\n",
              "      <td>0.11695</td>\n",
              "      <td>-0.18056</td>\n",
              "      <td>0.02742</td>\n",
              "      <td>0.05883</td>\n",
              "      <td>0.08103</td>\n",
              "    </tr>\n",
              "    <tr>\n",
              "      <th>2</th>\n",
              "      <td>2011-07-01</td>\n",
              "      <td>BRA</td>\n",
              "      <td>BRL</td>\n",
              "      <td>Brazil</td>\n",
              "      <td>9.50</td>\n",
              "      <td>1.541600</td>\n",
              "      <td>6.162429</td>\n",
              "      <td>10816.487</td>\n",
              "      <td>3.245241</td>\n",
              "      <td>1.48516</td>\n",
              "      <td>0.82320</td>\n",
              "      <td>1.28595</td>\n",
              "      <td>1.35584</td>\n",
              "      <td>1.40524</td>\n",
              "    </tr>\n",
              "    <tr>\n",
              "      <th>3</th>\n",
              "      <td>2011-07-01</td>\n",
              "      <td>GBR</td>\n",
              "      <td>GBP</td>\n",
              "      <td>Britain</td>\n",
              "      <td>2.39</td>\n",
              "      <td>0.614137</td>\n",
              "      <td>3.891637</td>\n",
              "      <td>36119.846</td>\n",
              "      <td>4.684831</td>\n",
              "      <td>0.08714</td>\n",
              "      <td>-0.20243</td>\n",
              "      <td>0.00000</td>\n",
              "      <td>0.03058</td>\n",
              "      <td>0.05218</td>\n",
              "    </tr>\n",
              "    <tr>\n",
              "      <th>4</th>\n",
              "      <td>2011-07-01</td>\n",
              "      <td>CAN</td>\n",
              "      <td>CAD</td>\n",
              "      <td>Canada</td>\n",
              "      <td>4.73</td>\n",
              "      <td>0.945850</td>\n",
              "      <td>5.000793</td>\n",
              "      <td>46214.914</td>\n",
              "      <td>5.259173</td>\n",
              "      <td>0.24443</td>\n",
              "      <td>-0.08704</td>\n",
              "      <td>0.14468</td>\n",
              "      <td>0.17968</td>\n",
              "      <td>0.20441</td>\n",
              "    </tr>\n",
              "  </tbody>\n",
              "</table>\n",
              "</div>"
            ],
            "text/plain": [
              "        date iso_a3 currency_code  ...      GBP      JPY      CNY\n",
              "0 2011-07-01    ARG           ARS  ...  0.84970  0.90626  0.94622\n",
              "1 2011-07-01    AUS           AUD  ...  0.02742  0.05883  0.08103\n",
              "2 2011-07-01    BRA           BRL  ...  1.28595  1.35584  1.40524\n",
              "3 2011-07-01    GBR           GBP  ...  0.00000  0.03058  0.05218\n",
              "4 2011-07-01    CAN           CAD  ...  0.14468  0.17968  0.20441\n",
              "\n",
              "[5 rows x 14 columns]"
            ]
          },
          "metadata": {
            "tags": []
          },
          "execution_count": 5
        }
      ]
    },
    {
      "cell_type": "code",
      "metadata": {
        "colab": {
          "base_uri": "https://localhost:8080/"
        },
        "id": "uiCagQ7ZAGVp",
        "outputId": "f2fa5292-751d-4f07-d299-ac9f857980aa"
      },
      "source": [
        "df.info()"
      ],
      "execution_count": 4,
      "outputs": [
        {
          "output_type": "stream",
          "text": [
            "<class 'pandas.core.frame.DataFrame'>\n",
            "RangeIndex: 1730 entries, 0 to 1729\n",
            "Data columns (total 7 columns):\n",
            " #   Column         Non-Null Count  Dtype         \n",
            "---  ------         --------------  -----         \n",
            " 0   name           1730 non-null   object        \n",
            " 1   iso_a3         1730 non-null   object        \n",
            " 2   currency_code  1730 non-null   object        \n",
            " 3   local_price    1730 non-null   float64       \n",
            " 4   dollar_ex      1730 non-null   float64       \n",
            " 5   GDP_dollar     1117 non-null   float64       \n",
            " 6   date           1730 non-null   datetime64[ns]\n",
            "dtypes: datetime64[ns](1), float64(3), object(3)\n",
            "memory usage: 94.7+ KB\n"
          ],
          "name": "stdout"
        }
      ]
    },
    {
      "cell_type": "code",
      "metadata": {
        "colab": {
          "base_uri": "https://localhost:8080/",
          "height": 204
        },
        "id": "jhfbrqE_AK_o",
        "outputId": "d237f782-fe40-40a4-dbc7-4f73638053c8"
      },
      "source": [
        "df2 = df.copy()\r\n",
        "df2.head()"
      ],
      "execution_count": 7,
      "outputs": [
        {
          "output_type": "execute_result",
          "data": {
            "text/html": [
              "<div>\n",
              "<style scoped>\n",
              "    .dataframe tbody tr th:only-of-type {\n",
              "        vertical-align: middle;\n",
              "    }\n",
              "\n",
              "    .dataframe tbody tr th {\n",
              "        vertical-align: top;\n",
              "    }\n",
              "\n",
              "    .dataframe thead th {\n",
              "        text-align: right;\n",
              "    }\n",
              "</style>\n",
              "<table border=\"1\" class=\"dataframe\">\n",
              "  <thead>\n",
              "    <tr style=\"text-align: right;\">\n",
              "      <th></th>\n",
              "      <th>date</th>\n",
              "      <th>iso_a3</th>\n",
              "      <th>currency_code</th>\n",
              "      <th>name</th>\n",
              "      <th>local_price</th>\n",
              "      <th>dollar_ex</th>\n",
              "      <th>dollar_price</th>\n",
              "      <th>GDP_dollar</th>\n",
              "      <th>adj_price</th>\n",
              "      <th>USD</th>\n",
              "      <th>EUR</th>\n",
              "      <th>GBP</th>\n",
              "      <th>JPY</th>\n",
              "      <th>CNY</th>\n",
              "    </tr>\n",
              "  </thead>\n",
              "  <tbody>\n",
              "    <tr>\n",
              "      <th>0</th>\n",
              "      <td>2011-07-01</td>\n",
              "      <td>ARG</td>\n",
              "      <td>ARS</td>\n",
              "      <td>Argentina</td>\n",
              "      <td>20.00</td>\n",
              "      <td>4.132500</td>\n",
              "      <td>4.839685</td>\n",
              "      <td>9138.177</td>\n",
              "      <td>3.149757</td>\n",
              "      <td>1.01089</td>\n",
              "      <td>0.47526</td>\n",
              "      <td>0.84970</td>\n",
              "      <td>0.90626</td>\n",
              "      <td>0.94622</td>\n",
              "    </tr>\n",
              "    <tr>\n",
              "      <th>1</th>\n",
              "      <td>2011-07-01</td>\n",
              "      <td>AUS</td>\n",
              "      <td>AUD</td>\n",
              "      <td>Australia</td>\n",
              "      <td>4.56</td>\n",
              "      <td>0.922382</td>\n",
              "      <td>4.943724</td>\n",
              "      <td>55589.549</td>\n",
              "      <td>5.792526</td>\n",
              "      <td>0.11695</td>\n",
              "      <td>-0.18056</td>\n",
              "      <td>0.02742</td>\n",
              "      <td>0.05883</td>\n",
              "      <td>0.08103</td>\n",
              "    </tr>\n",
              "    <tr>\n",
              "      <th>2</th>\n",
              "      <td>2011-07-01</td>\n",
              "      <td>BRA</td>\n",
              "      <td>BRL</td>\n",
              "      <td>Brazil</td>\n",
              "      <td>9.50</td>\n",
              "      <td>1.541600</td>\n",
              "      <td>6.162429</td>\n",
              "      <td>10816.487</td>\n",
              "      <td>3.245241</td>\n",
              "      <td>1.48516</td>\n",
              "      <td>0.82320</td>\n",
              "      <td>1.28595</td>\n",
              "      <td>1.35584</td>\n",
              "      <td>1.40524</td>\n",
              "    </tr>\n",
              "    <tr>\n",
              "      <th>3</th>\n",
              "      <td>2011-07-01</td>\n",
              "      <td>GBR</td>\n",
              "      <td>GBP</td>\n",
              "      <td>Britain</td>\n",
              "      <td>2.39</td>\n",
              "      <td>0.614137</td>\n",
              "      <td>3.891637</td>\n",
              "      <td>36119.846</td>\n",
              "      <td>4.684831</td>\n",
              "      <td>0.08714</td>\n",
              "      <td>-0.20243</td>\n",
              "      <td>0.00000</td>\n",
              "      <td>0.03058</td>\n",
              "      <td>0.05218</td>\n",
              "    </tr>\n",
              "    <tr>\n",
              "      <th>4</th>\n",
              "      <td>2011-07-01</td>\n",
              "      <td>CAN</td>\n",
              "      <td>CAD</td>\n",
              "      <td>Canada</td>\n",
              "      <td>4.73</td>\n",
              "      <td>0.945850</td>\n",
              "      <td>5.000793</td>\n",
              "      <td>46214.914</td>\n",
              "      <td>5.259173</td>\n",
              "      <td>0.24443</td>\n",
              "      <td>-0.08704</td>\n",
              "      <td>0.14468</td>\n",
              "      <td>0.17968</td>\n",
              "      <td>0.20441</td>\n",
              "    </tr>\n",
              "  </tbody>\n",
              "</table>\n",
              "</div>"
            ],
            "text/plain": [
              "        date iso_a3 currency_code  ...      GBP      JPY      CNY\n",
              "0 2011-07-01    ARG           ARS  ...  0.84970  0.90626  0.94622\n",
              "1 2011-07-01    AUS           AUD  ...  0.02742  0.05883  0.08103\n",
              "2 2011-07-01    BRA           BRL  ...  1.28595  1.35584  1.40524\n",
              "3 2011-07-01    GBR           GBP  ...  0.00000  0.03058  0.05218\n",
              "4 2011-07-01    CAN           CAD  ...  0.14468  0.17968  0.20441\n",
              "\n",
              "[5 rows x 14 columns]"
            ]
          },
          "metadata": {
            "tags": []
          },
          "execution_count": 7
        }
      ]
    },
    {
      "cell_type": "code",
      "metadata": {
        "colab": {
          "base_uri": "https://localhost:8080/",
          "height": 204
        },
        "id": "IGmcyRxVAtS3",
        "outputId": "6d588306-04a1-48b3-87e6-cc351cea38d1"
      },
      "source": [
        "df = df[(df[\"date\"].dt.year==2019)& (df[\"date\"].dt.month==1)]\r\n",
        "df.head()"
      ],
      "execution_count": 8,
      "outputs": [
        {
          "output_type": "execute_result",
          "data": {
            "text/html": [
              "<div>\n",
              "<style scoped>\n",
              "    .dataframe tbody tr th:only-of-type {\n",
              "        vertical-align: middle;\n",
              "    }\n",
              "\n",
              "    .dataframe tbody tr th {\n",
              "        vertical-align: top;\n",
              "    }\n",
              "\n",
              "    .dataframe thead th {\n",
              "        text-align: right;\n",
              "    }\n",
              "</style>\n",
              "<table border=\"1\" class=\"dataframe\">\n",
              "  <thead>\n",
              "    <tr style=\"text-align: right;\">\n",
              "      <th></th>\n",
              "      <th>date</th>\n",
              "      <th>iso_a3</th>\n",
              "      <th>currency_code</th>\n",
              "      <th>name</th>\n",
              "      <th>local_price</th>\n",
              "      <th>dollar_ex</th>\n",
              "      <th>dollar_price</th>\n",
              "      <th>GDP_dollar</th>\n",
              "      <th>adj_price</th>\n",
              "      <th>USD</th>\n",
              "      <th>EUR</th>\n",
              "      <th>GBP</th>\n",
              "      <th>JPY</th>\n",
              "      <th>CNY</th>\n",
              "    </tr>\n",
              "  </thead>\n",
              "  <tbody>\n",
              "    <tr>\n",
              "      <th>554</th>\n",
              "      <td>2019-01-01</td>\n",
              "      <td>ARG</td>\n",
              "      <td>ARS</td>\n",
              "      <td>Argentina</td>\n",
              "      <td>75.00</td>\n",
              "      <td>37.455000</td>\n",
              "      <td>2.002403</td>\n",
              "      <td>14462.920</td>\n",
              "      <td>3.165211</td>\n",
              "      <td>-0.41927</td>\n",
              "      <td>-0.43420</td>\n",
              "      <td>-0.33846</td>\n",
              "      <td>-0.26107</td>\n",
              "      <td>-0.39584</td>\n",
              "    </tr>\n",
              "    <tr>\n",
              "      <th>555</th>\n",
              "      <td>2019-01-01</td>\n",
              "      <td>AUS</td>\n",
              "      <td>AUD</td>\n",
              "      <td>Australia</td>\n",
              "      <td>6.10</td>\n",
              "      <td>1.401640</td>\n",
              "      <td>4.352045</td>\n",
              "      <td>55692.730</td>\n",
              "      <td>4.945273</td>\n",
              "      <td>-0.19215</td>\n",
              "      <td>-0.21292</td>\n",
              "      <td>-0.07974</td>\n",
              "      <td>0.02791</td>\n",
              "      <td>-0.15955</td>\n",
              "    </tr>\n",
              "    <tr>\n",
              "      <th>556</th>\n",
              "      <td>2019-01-01</td>\n",
              "      <td>BRA</td>\n",
              "      <td>BRL</td>\n",
              "      <td>Brazil</td>\n",
              "      <td>16.90</td>\n",
              "      <td>3.717950</td>\n",
              "      <td>4.545516</td>\n",
              "      <td>9895.765</td>\n",
              "      <td>2.968028</td>\n",
              "      <td>0.40586</td>\n",
              "      <td>0.36972</td>\n",
              "      <td>0.60148</td>\n",
              "      <td>0.78883</td>\n",
              "      <td>0.46259</td>\n",
              "    </tr>\n",
              "    <tr>\n",
              "      <th>557</th>\n",
              "      <td>2019-01-01</td>\n",
              "      <td>GBR</td>\n",
              "      <td>GBP</td>\n",
              "      <td>Britain</td>\n",
              "      <td>3.19</td>\n",
              "      <td>0.783208</td>\n",
              "      <td>4.072992</td>\n",
              "      <td>39800.274</td>\n",
              "      <td>4.259130</td>\n",
              "      <td>-0.12215</td>\n",
              "      <td>-0.14472</td>\n",
              "      <td>0.00000</td>\n",
              "      <td>0.11698</td>\n",
              "      <td>-0.08673</td>\n",
              "    </tr>\n",
              "    <tr>\n",
              "      <th>558</th>\n",
              "      <td>2019-01-01</td>\n",
              "      <td>CAN</td>\n",
              "      <td>CAD</td>\n",
              "      <td>Canada</td>\n",
              "      <td>6.77</td>\n",
              "      <td>1.331400</td>\n",
              "      <td>5.084873</td>\n",
              "      <td>45094.605</td>\n",
              "      <td>4.487708</td>\n",
              "      <td>0.04012</td>\n",
              "      <td>0.01338</td>\n",
              "      <td>0.18485</td>\n",
              "      <td>0.32346</td>\n",
              "      <td>0.08209</td>\n",
              "    </tr>\n",
              "  </tbody>\n",
              "</table>\n",
              "</div>"
            ],
            "text/plain": [
              "          date iso_a3 currency_code  ...      GBP      JPY      CNY\n",
              "554 2019-01-01    ARG           ARS  ... -0.33846 -0.26107 -0.39584\n",
              "555 2019-01-01    AUS           AUD  ... -0.07974  0.02791 -0.15955\n",
              "556 2019-01-01    BRA           BRL  ...  0.60148  0.78883  0.46259\n",
              "557 2019-01-01    GBR           GBP  ...  0.00000  0.11698 -0.08673\n",
              "558 2019-01-01    CAN           CAD  ...  0.18485  0.32346  0.08209\n",
              "\n",
              "[5 rows x 14 columns]"
            ]
          },
          "metadata": {
            "tags": []
          },
          "execution_count": 8
        }
      ]
    },
    {
      "cell_type": "code",
      "metadata": {
        "colab": {
          "base_uri": "https://localhost:8080/",
          "height": 400
        },
        "id": "GAZpiDH0Bihd",
        "outputId": "655d326a-53f7-4adf-b6d7-3511a177cac8"
      },
      "source": [
        "sns.lmplot(x = \"GDP_dollar\", y = \"dollar_price\", data = df, ci = None) \r\n",
        "#ci = confident interval"
      ],
      "execution_count": 9,
      "outputs": [
        {
          "output_type": "execute_result",
          "data": {
            "text/plain": [
              "<seaborn.axisgrid.FacetGrid at 0x7f761add2a90>"
            ]
          },
          "metadata": {
            "tags": []
          },
          "execution_count": 9
        },
        {
          "output_type": "display_data",
          "data": {
            "image/png": "[encoded data removed]",
            "text/plain": [
              "<Figure size 360x360 with 1 Axes>"
            ]
          },
          "metadata": {
            "tags": [],
            "image/png": {
              "width": 367,
              "height": 366
            },
            "needs_background": "light"
          }
        }
      ]
    },
    {
      "cell_type": "code",
      "metadata": {
        "colab": {
          "base_uri": "https://localhost:8080/",
          "height": 440
        },
        "id": "hY6BTeLUB8eq",
        "outputId": "374d5321-7122-4e99-aa28-d6f6af813032"
      },
      "source": [
        "sns.jointplot(x= \"GDP_dollar\", y = \"dollar_price\", data = df, kind =\"reg\", ci = None,\r\n",
        "              color = \"orange\");"
      ],
      "execution_count": 10,
      "outputs": [
        {
          "output_type": "display_data",
          "data": {
            "image/png": "[encoded data removed]",
            "text/plain": [
              "<Figure size 432x432 with 3 Axes>"
            ]
          },
          "metadata": {
            "tags": [],
            "image/png": {
              "width": 414,
              "height": 423
            },
            "needs_background": "light"
          }
        }
      ]
    },
    {
      "cell_type": "markdown",
      "metadata": {
        "id": "DceEqpIsCecX"
      },
      "source": [
        "# sklearn: LinearRegression"
      ]
    },
    {
      "cell_type": "code",
      "metadata": {
        "id": "g1596grICTUb"
      },
      "source": [
        "import sklearn\r\n",
        "from sklearn.linear_model import LinearRegression\r\n"
      ],
      "execution_count": 11,
      "outputs": []
    },
    {
      "cell_type": "code",
      "metadata": {
        "colab": {
          "base_uri": "https://localhost:8080/"
        },
        "id": "S8f6WtF8Cp61",
        "outputId": "2dc550dc-51e7-404a-958b-45d7138bf29c"
      },
      "source": [
        "print(f'sklearn version : {sklearn.__version__}')"
      ],
      "execution_count": 12,
      "outputs": [
        {
          "output_type": "stream",
          "text": [
            "sklearn version : 0.22.2.post1\n"
          ],
          "name": "stdout"
        }
      ]
    },
    {
      "cell_type": "code",
      "metadata": {
        "colab": {
          "base_uri": "https://localhost:8080/"
        },
        "id": "v8O4dB1hDBnH",
        "outputId": "38eb53ee-14eb-4aa1-c231-de56fea76d65"
      },
      "source": [
        "model = LinearRegression()\r\n",
        "model"
      ],
      "execution_count": 14,
      "outputs": [
        {
          "output_type": "execute_result",
          "data": {
            "text/plain": [
              "LinearRegression(copy_X=True, fit_intercept=True, n_jobs=None, normalize=False)"
            ]
          },
          "metadata": {
            "tags": []
          },
          "execution_count": 14
        }
      ]
    },
    {
      "cell_type": "code",
      "metadata": {
        "colab": {
          "base_uri": "https://localhost:8080/"
        },
        "id": "GE1z6YpiEanR",
        "outputId": "4c55a143-4dd0-486f-fa9b-5fedf3b06aba"
      },
      "source": [
        "model.fit(df[[\"GDP_dollar\"]], df[\"dollar_price\"])"
      ],
      "execution_count": 16,
      "outputs": [
        {
          "output_type": "execute_result",
          "data": {
            "text/plain": [
              "LinearRegression(copy_X=True, fit_intercept=True, n_jobs=None, normalize=False)"
            ]
          },
          "metadata": {
            "tags": []
          },
          "execution_count": 16
        }
      ]
    },
    {
      "cell_type": "code",
      "metadata": {
        "id": "cgpPpfeVDD4V"
      },
      "source": [
        "X = df[[\"GDP_dollar\"]] # expect 2D array not Series (1D)\r\n",
        "y = df.dollar_price"
      ],
      "execution_count": 15,
      "outputs": []
    },
    {
      "cell_type": "code",
      "metadata": {
        "colab": {
          "base_uri": "https://localhost:8080/"
        },
        "id": "hgPbjOjOERvw",
        "outputId": "125a36bb-bbc8-49c5-969a-98b1c49402a7"
      },
      "source": [
        "model.fit(X, y)"
      ],
      "execution_count": 20,
      "outputs": [
        {
          "output_type": "execute_result",
          "data": {
            "text/plain": [
              "LinearRegression(copy_X=True, fit_intercept=True, n_jobs=None, normalize=False)"
            ]
          },
          "metadata": {
            "tags": []
          },
          "execution_count": 20
        }
      ]
    },
    {
      "cell_type": "code",
      "metadata": {
        "colab": {
          "base_uri": "https://localhost:8080/"
        },
        "id": "WNm-vOBsE3Ka",
        "outputId": "b7902c0d-5a3f-4ddd-b27e-c9a06f367c76"
      },
      "source": [
        "model.score(X, y) # R-squared"
      ],
      "execution_count": 22,
      "outputs": [
        {
          "output_type": "execute_result",
          "data": {
            "text/plain": [
              "0.6312750690042251"
            ]
          },
          "metadata": {
            "tags": []
          },
          "execution_count": 22
        }
      ]
    },
    {
      "cell_type": "code",
      "metadata": {
        "colab": {
          "base_uri": "https://localhost:8080/"
        },
        "id": "UfApy7YfFAQ9",
        "outputId": "65666290-3987-4db7-cc90-809f5b1de159"
      },
      "source": [
        "model.intercept_"
      ],
      "execution_count": 23,
      "outputs": [
        {
          "output_type": "execute_result",
          "data": {
            "text/plain": [
              "2.432727161471293"
            ]
          },
          "metadata": {
            "tags": []
          },
          "execution_count": 23
        }
      ]
    },
    {
      "cell_type": "code",
      "metadata": {
        "colab": {
          "base_uri": "https://localhost:8080/"
        },
        "id": "EfSha6MUFEPa",
        "outputId": "8a1f3ee5-7a87-4575-ea2f-f05d9e897f8d"
      },
      "source": [
        "model.coef_"
      ],
      "execution_count": 24,
      "outputs": [
        {
          "output_type": "execute_result",
          "data": {
            "text/plain": [
              "array([4.36961383e-05])"
            ]
          },
          "metadata": {
            "tags": []
          },
          "execution_count": 24
        }
      ]
    },
    {
      "cell_type": "markdown",
      "metadata": {
        "id": "w_9E8KwqFOkd"
      },
      "source": [
        "# *Predict*\r\n",
        "\r\n",
        "y = mx +c"
      ]
    },
    {
      "cell_type": "code",
      "metadata": {
        "colab": {
          "base_uri": "https://localhost:8080/"
        },
        "id": "spK683liFH-c",
        "outputId": "638b4917-1881-42bd-a416-a7c0a3f03918"
      },
      "source": [
        "model.intercept_ + model.coef_* 9000"
      ],
      "execution_count": 25,
      "outputs": [
        {
          "output_type": "execute_result",
          "data": {
            "text/plain": [
              "array([2.82599241])"
            ]
          },
          "metadata": {
            "tags": []
          },
          "execution_count": 25
        }
      ]
    },
    {
      "cell_type": "code",
      "metadata": {
        "colab": {
          "base_uri": "https://localhost:8080/"
        },
        "id": "TmaCKLNNFWeE",
        "outputId": "990cc5f7-ae05-41c8-cb47-db18f328bff6"
      },
      "source": [
        "model.predict([[9000]]) # 2D array"
      ],
      "execution_count": 29,
      "outputs": [
        {
          "output_type": "execute_result",
          "data": {
            "text/plain": [
              "array([2.82599241])"
            ]
          },
          "metadata": {
            "tags": []
          },
          "execution_count": 29
        }
      ]
    },
    {
      "cell_type": "code",
      "metadata": {
        "colab": {
          "base_uri": "https://localhost:8080/"
        },
        "id": "CDZ9YTboFjgE",
        "outputId": "7bc6e4cf-6fa8-4722-8a94-17153d20dd50"
      },
      "source": [
        "model.predict([[9000],[40000]])"
      ],
      "execution_count": 27,
      "outputs": [
        {
          "output_type": "execute_result",
          "data": {
            "text/plain": [
              "array([2.82599241, 4.18057269])"
            ]
          },
          "metadata": {
            "tags": []
          },
          "execution_count": 27
        }
      ]
    },
    {
      "cell_type": "code",
      "metadata": {
        "colab": {
          "base_uri": "https://localhost:8080/"
        },
        "id": "BlZUpURSFqc_",
        "outputId": "6e677aa2-ffb7-4c5b-fc66-c147c7869cf8"
      },
      "source": [
        "np.arange(5000, 50000, 2500) # create  NP arange"
      ],
      "execution_count": 31,
      "outputs": [
        {
          "output_type": "execute_result",
          "data": {
            "text/plain": [
              "array([ 5000,  7500, 10000, 12500, 15000, 17500, 20000, 22500, 25000,\n",
              "       27500, 30000, 32500, 35000, 37500, 40000, 42500, 45000, 47500])"
            ]
          },
          "metadata": {
            "tags": []
          },
          "execution_count": 31
        }
      ]
    },
    {
      "cell_type": "code",
      "metadata": {
        "colab": {
          "base_uri": "https://localhost:8080/"
        },
        "id": "qWfAryY9Gomc",
        "outputId": "ac427c3f-67f8-416f-f3f8-ecf4a7572fd4"
      },
      "source": [
        "np.arange(5000, 50000, 2500).reshape(-1, 1) # create  NP arange 2D"
      ],
      "execution_count": 33,
      "outputs": [
        {
          "output_type": "execute_result",
          "data": {
            "text/plain": [
              "array([[ 5000],\n",
              "       [ 7500],\n",
              "       [10000],\n",
              "       [12500],\n",
              "       [15000],\n",
              "       [17500],\n",
              "       [20000],\n",
              "       [22500],\n",
              "       [25000],\n",
              "       [27500],\n",
              "       [30000],\n",
              "       [32500],\n",
              "       [35000],\n",
              "       [37500],\n",
              "       [40000],\n",
              "       [42500],\n",
              "       [45000],\n",
              "       [47500]])"
            ]
          },
          "metadata": {
            "tags": []
          },
          "execution_count": 33
        }
      ]
    },
    {
      "cell_type": "code",
      "metadata": {
        "colab": {
          "base_uri": "https://localhost:8080/"
        },
        "id": "qqsivGJVGMFu",
        "outputId": "9f3ec7cd-25cb-414b-aa9f-d510d8cefe38"
      },
      "source": [
        "model.predict(np.arange(5000, 50000, 2500).reshape(-1, 1) )"
      ],
      "execution_count": 34,
      "outputs": [
        {
          "output_type": "execute_result",
          "data": {
            "text/plain": [
              "array([2.65120785, 2.7604482 , 2.86968854, 2.97892889, 3.08816924,\n",
              "       3.19740958, 3.30664993, 3.41589027, 3.52513062, 3.63437096,\n",
              "       3.74361131, 3.85285166, 3.962092  , 4.07133235, 4.18057269,\n",
              "       4.28981304, 4.39905338, 4.50829373])"
            ]
          },
          "metadata": {
            "tags": []
          },
          "execution_count": 34
        }
      ]
    },
    {
      "cell_type": "code",
      "metadata": {
        "colab": {
          "base_uri": "https://localhost:8080/"
        },
        "id": "x_E7XHMsGkL_",
        "outputId": "f59084d0-4af0-487d-a7e6-1df5148a2862"
      },
      "source": [
        "np.linspace(5000, 50000, 20)"
      ],
      "execution_count": 35,
      "outputs": [
        {
          "output_type": "execute_result",
          "data": {
            "text/plain": [
              "array([ 5000.        ,  7368.42105263,  9736.84210526, 12105.26315789,\n",
              "       14473.68421053, 16842.10526316, 19210.52631579, 21578.94736842,\n",
              "       23947.36842105, 26315.78947368, 28684.21052632, 31052.63157895,\n",
              "       33421.05263158, 35789.47368421, 38157.89473684, 40526.31578947,\n",
              "       42894.73684211, 45263.15789474, 47631.57894737, 50000.        ])"
            ]
          },
          "metadata": {
            "tags": []
          },
          "execution_count": 35
        }
      ]
    },
    {
      "cell_type": "markdown",
      "metadata": {
        "id": "zBWQJWSSHAXK"
      },
      "source": [
        "# Main data in panda"
      ]
    },
    {
      "cell_type": "code",
      "metadata": {
        "colab": {
          "base_uri": "https://localhost:8080/"
        },
        "id": "8hS7wCohG_l_",
        "outputId": "cd28fba5-b022-47ab-bf77-e401514e4dec"
      },
      "source": [
        "s = pd.Series(np.linspace(5000, 50000, 20))\r\n",
        "s"
      ],
      "execution_count": 36,
      "outputs": [
        {
          "output_type": "execute_result",
          "data": {
            "text/plain": [
              "0      5000.000000\n",
              "1      7368.421053\n",
              "2      9736.842105\n",
              "3     12105.263158\n",
              "4     14473.684211\n",
              "5     16842.105263\n",
              "6     19210.526316\n",
              "7     21578.947368\n",
              "8     23947.368421\n",
              "9     26315.789474\n",
              "10    28684.210526\n",
              "11    31052.631579\n",
              "12    33421.052632\n",
              "13    35789.473684\n",
              "14    38157.894737\n",
              "15    40526.315789\n",
              "16    42894.736842\n",
              "17    45263.157895\n",
              "18    47631.578947\n",
              "19    50000.000000\n",
              "dtype: float64"
            ]
          },
          "metadata": {
            "tags": []
          },
          "execution_count": 36
        }
      ]
    },
    {
      "cell_type": "code",
      "metadata": {
        "colab": {
          "base_uri": "https://localhost:8080/"
        },
        "id": "imi_3BtEG7hN",
        "outputId": "b263c506-3a4f-47f9-fca5-047950a48c9b"
      },
      "source": [
        "model.predict(s.to_frame()) # chage Series to DataFrame"
      ],
      "execution_count": 39,
      "outputs": [
        {
          "output_type": "execute_result",
          "data": {
            "text/plain": [
              "array([2.65120785, 2.75469871, 2.85818956, 2.96168041, 3.06517127,\n",
              "       3.16866212, 3.27215298, 3.37564383, 3.47913468, 3.58262554,\n",
              "       3.68611639, 3.78960724, 3.8930981 , 3.99658895, 4.10007981,\n",
              "       4.20357066, 4.30706151, 4.41055237, 4.51404322, 4.61753407])"
            ]
          },
          "metadata": {
            "tags": []
          },
          "execution_count": 39
        }
      ]
    },
    {
      "cell_type": "code",
      "metadata": {
        "colab": {
          "base_uri": "https://localhost:8080/",
          "height": 669
        },
        "id": "ubVyhWhVHRDC",
        "outputId": "50089f4a-c9dc-4971-b2de-e8adf7e15605"
      },
      "source": [
        "dx = pd.DataFrame(np.linspace(5000, 50000, 20), columns= [\"gdp\"])\r\n",
        "dx"
      ],
      "execution_count": 41,
      "outputs": [
        {
          "output_type": "execute_result",
          "data": {
            "text/html": [
              "<div>\n",
              "<style scoped>\n",
              "    .dataframe tbody tr th:only-of-type {\n",
              "        vertical-align: middle;\n",
              "    }\n",
              "\n",
              "    .dataframe tbody tr th {\n",
              "        vertical-align: top;\n",
              "    }\n",
              "\n",
              "    .dataframe thead th {\n",
              "        text-align: right;\n",
              "    }\n",
              "</style>\n",
              "<table border=\"1\" class=\"dataframe\">\n",
              "  <thead>\n",
              "    <tr style=\"text-align: right;\">\n",
              "      <th></th>\n",
              "      <th>gdp</th>\n",
              "    </tr>\n",
              "  </thead>\n",
              "  <tbody>\n",
              "    <tr>\n",
              "      <th>0</th>\n",
              "      <td>5000.000000</td>\n",
              "    </tr>\n",
              "    <tr>\n",
              "      <th>1</th>\n",
              "      <td>7368.421053</td>\n",
              "    </tr>\n",
              "    <tr>\n",
              "      <th>2</th>\n",
              "      <td>9736.842105</td>\n",
              "    </tr>\n",
              "    <tr>\n",
              "      <th>3</th>\n",
              "      <td>12105.263158</td>\n",
              "    </tr>\n",
              "    <tr>\n",
              "      <th>4</th>\n",
              "      <td>14473.684211</td>\n",
              "    </tr>\n",
              "    <tr>\n",
              "      <th>5</th>\n",
              "      <td>16842.105263</td>\n",
              "    </tr>\n",
              "    <tr>\n",
              "      <th>6</th>\n",
              "      <td>19210.526316</td>\n",
              "    </tr>\n",
              "    <tr>\n",
              "      <th>7</th>\n",
              "      <td>21578.947368</td>\n",
              "    </tr>\n",
              "    <tr>\n",
              "      <th>8</th>\n",
              "      <td>23947.368421</td>\n",
              "    </tr>\n",
              "    <tr>\n",
              "      <th>9</th>\n",
              "      <td>26315.789474</td>\n",
              "    </tr>\n",
              "    <tr>\n",
              "      <th>10</th>\n",
              "      <td>28684.210526</td>\n",
              "    </tr>\n",
              "    <tr>\n",
              "      <th>11</th>\n",
              "      <td>31052.631579</td>\n",
              "    </tr>\n",
              "    <tr>\n",
              "      <th>12</th>\n",
              "      <td>33421.052632</td>\n",
              "    </tr>\n",
              "    <tr>\n",
              "      <th>13</th>\n",
              "      <td>35789.473684</td>\n",
              "    </tr>\n",
              "    <tr>\n",
              "      <th>14</th>\n",
              "      <td>38157.894737</td>\n",
              "    </tr>\n",
              "    <tr>\n",
              "      <th>15</th>\n",
              "      <td>40526.315789</td>\n",
              "    </tr>\n",
              "    <tr>\n",
              "      <th>16</th>\n",
              "      <td>42894.736842</td>\n",
              "    </tr>\n",
              "    <tr>\n",
              "      <th>17</th>\n",
              "      <td>45263.157895</td>\n",
              "    </tr>\n",
              "    <tr>\n",
              "      <th>18</th>\n",
              "      <td>47631.578947</td>\n",
              "    </tr>\n",
              "    <tr>\n",
              "      <th>19</th>\n",
              "      <td>50000.000000</td>\n",
              "    </tr>\n",
              "  </tbody>\n",
              "</table>\n",
              "</div>"
            ],
            "text/plain": [
              "             gdp\n",
              "0    5000.000000\n",
              "1    7368.421053\n",
              "2    9736.842105\n",
              "3   12105.263158\n",
              "4   14473.684211\n",
              "5   16842.105263\n",
              "6   19210.526316\n",
              "7   21578.947368\n",
              "8   23947.368421\n",
              "9   26315.789474\n",
              "10  28684.210526\n",
              "11  31052.631579\n",
              "12  33421.052632\n",
              "13  35789.473684\n",
              "14  38157.894737\n",
              "15  40526.315789\n",
              "16  42894.736842\n",
              "17  45263.157895\n",
              "18  47631.578947\n",
              "19  50000.000000"
            ]
          },
          "metadata": {
            "tags": []
          },
          "execution_count": 41
        }
      ]
    },
    {
      "cell_type": "code",
      "metadata": {
        "colab": {
          "base_uri": "https://localhost:8080/"
        },
        "id": "CVTUuI0dHpWT",
        "outputId": "6464cbef-1eda-4d57-8662-adf805e51250"
      },
      "source": [
        "model.predict(dx)"
      ],
      "execution_count": 42,
      "outputs": [
        {
          "output_type": "execute_result",
          "data": {
            "text/plain": [
              "array([2.65120785, 2.75469871, 2.85818956, 2.96168041, 3.06517127,\n",
              "       3.16866212, 3.27215298, 3.37564383, 3.47913468, 3.58262554,\n",
              "       3.68611639, 3.78960724, 3.8930981 , 3.99658895, 4.10007981,\n",
              "       4.20357066, 4.30706151, 4.41055237, 4.51404322, 4.61753407])"
            ]
          },
          "metadata": {
            "tags": []
          },
          "execution_count": 42
        }
      ]
    },
    {
      "cell_type": "markdown",
      "metadata": {
        "id": "Il6fDtUKH5Ae"
      },
      "source": [
        "# Statmodels : Linear Regression"
      ]
    },
    {
      "cell_type": "code",
      "metadata": {
        "id": "-og1T4CcH3LZ"
      },
      "source": [
        "import statsmodels as sm\r\n",
        "import statsmodels.formula.api as smf"
      ],
      "execution_count": 43,
      "outputs": []
    },
    {
      "cell_type": "code",
      "metadata": {
        "id": "jD23tIXjIETD"
      },
      "source": [
        "# formula : response ~ predict + predictor\r\n",
        "model_a = smf.ols(formula= \"dollar_price ~ GDP_dollar\", data = df).fit()"
      ],
      "execution_count": 44,
      "outputs": []
    },
    {
      "cell_type": "code",
      "metadata": {
        "colab": {
          "base_uri": "https://localhost:8080/"
        },
        "id": "Pm6Tn8q8Iby0",
        "outputId": "fec1954c-671d-4171-fd23-409d577f639d"
      },
      "source": [
        "print(model_a.summary())"
      ],
      "execution_count": 45,
      "outputs": [
        {
          "output_type": "stream",
          "text": [
            "                            OLS Regression Results                            \n",
            "==============================================================================\n",
            "Dep. Variable:           dollar_price   R-squared:                       0.631\n",
            "Model:                            OLS   Adj. R-squared:                  0.621\n",
            "Method:                 Least Squares   F-statistic:                     59.92\n",
            "Date:                Tue, 09 Feb 2021   Prob (F-statistic):           4.34e-09\n",
            "Time:                        14:11:26   Log-Likelihood:                -41.445\n",
            "No. Observations:                  37   AIC:                             86.89\n",
            "Df Residuals:                      35   BIC:                             90.11\n",
            "Df Model:                           1                                         \n",
            "Covariance Type:            nonrobust                                         \n",
            "==============================================================================\n",
            "                 coef    std err          t      P>|t|      [0.025      0.975]\n",
            "------------------------------------------------------------------------------\n",
            "Intercept      2.4327      0.195     12.479      0.000       2.037       2.828\n",
            "GDP_dollar   4.37e-05   5.64e-06      7.741      0.000    3.22e-05    5.52e-05\n",
            "==============================================================================\n",
            "Omnibus:                        0.604   Durbin-Watson:                   2.059\n",
            "Prob(Omnibus):                  0.739   Jarque-Bera (JB):                0.312\n",
            "Skew:                          -0.225   Prob(JB):                        0.856\n",
            "Kurtosis:                       2.983   Cond. No.                     5.37e+04\n",
            "==============================================================================\n",
            "\n",
            "Warnings:\n",
            "[1] Standard Errors assume that the covariance matrix of the errors is correctly specified.\n",
            "[2] The condition number is large, 5.37e+04. This might indicate that there are\n",
            "strong multicollinearity or other numerical problems.\n"
          ],
          "name": "stdout"
        }
      ]
    },
    {
      "cell_type": "code",
      "metadata": {
        "colab": {
          "base_uri": "https://localhost:8080/"
        },
        "id": "a_OnYwlKIfpP",
        "outputId": "a5b1084a-7345-4a05-9755-fe28cd866652"
      },
      "source": [
        "model_a.pvalues"
      ],
      "execution_count": 46,
      "outputs": [
        {
          "output_type": "execute_result",
          "data": {
            "text/plain": [
              "Intercept     1.915703e-14\n",
              "GDP_dollar    4.338811e-09\n",
              "dtype: float64"
            ]
          },
          "metadata": {
            "tags": []
          },
          "execution_count": 46
        }
      ]
    },
    {
      "cell_type": "code",
      "metadata": {
        "colab": {
          "base_uri": "https://localhost:8080/"
        },
        "id": "KyMSQuIoI3tP",
        "outputId": "3e887e8d-5f06-481e-985b-75119092b07f"
      },
      "source": [
        "model.intercept_ # sklearn"
      ],
      "execution_count": 47,
      "outputs": [
        {
          "output_type": "execute_result",
          "data": {
            "text/plain": [
              "2.432727161471293"
            ]
          },
          "metadata": {
            "tags": []
          },
          "execution_count": 47
        }
      ]
    },
    {
      "cell_type": "code",
      "metadata": {
        "colab": {
          "base_uri": "https://localhost:8080/"
        },
        "id": "vWONtxH3I7gO",
        "outputId": "1feec97a-639c-46f6-a7c8-31f5141a4061"
      },
      "source": [
        "model.coef_"
      ],
      "execution_count": 48,
      "outputs": [
        {
          "output_type": "execute_result",
          "data": {
            "text/plain": [
              "array([4.36961383e-05])"
            ]
          },
          "metadata": {
            "tags": []
          },
          "execution_count": 48
        }
      ]
    },
    {
      "cell_type": "code",
      "metadata": {
        "colab": {
          "base_uri": "https://localhost:8080/"
        },
        "id": "4I2Qhk8OJFOh",
        "outputId": "dc0e45f3-fd5b-4714-c82b-759c23ef1e97"
      },
      "source": [
        "print(f'{model.coef_[0]:.7f}')"
      ],
      "execution_count": 49,
      "outputs": [
        {
          "output_type": "stream",
          "text": [
            "0.0000437\n"
          ],
          "name": "stdout"
        }
      ]
    },
    {
      "cell_type": "code",
      "metadata": {
        "id": "UIpsAEPUJPM5"
      },
      "source": [
        ""
      ],
      "execution_count": null,
      "outputs": []
    }
  ]
}