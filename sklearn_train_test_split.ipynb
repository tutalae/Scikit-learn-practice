{
  "nbformat": 4,
  "nbformat_minor": 0,
  "metadata": {
    "colab": {
      "name": "sklearn_train_test_split.ipynb",
      "provenance": [],
      "authorship_tag": "ABX9TyP2ViJ/V3DifMgYEuqE2ZBk",
      "include_colab_link": true
    },
    "kernelspec": {
      "name": "python3",
      "display_name": "Python 3"
    }
  },
  "cells": [
    {
      "cell_type": "markdown",
      "metadata": {
        "id": "view-in-github",
        "colab_type": "text"
      },
      "source": [
        "<a href=\"https://colab.research.google.com/github/tutalae/Scikit-learn-practice/blob/main/sklearn_train_test_split.ipynb\" target=\"_parent\"><img src=\"https://colab.research.google.com/assets/colab-badge.svg\" alt=\"Open In Colab\"/></a>"
      ]
    },
    {
      "cell_type": "code",
      "metadata": {
        "id": "QwAzdCJtRnvy"
      },
      "source": [
        "import pandas as pd\r\n",
        "import numpy as np"
      ],
      "execution_count": 1,
      "outputs": []
    },
    {
      "cell_type": "code",
      "metadata": {
        "colab": {
          "base_uri": "https://localhost:8080/",
          "height": 204
        },
        "id": "G0objfSfRu-b",
        "outputId": "156353d1-060a-43cf-d289-e6a373aa1819"
      },
      "source": [
        "url = 'https://raw.githubusercontent.com/prasertcbs/basic-dataset/master/ISLR/Advertising.csv'\r\n",
        "df = pd.read_csv(url, usecols = [1,2,3,4])\r\n",
        "df.head()"
      ],
      "execution_count": 2,
      "outputs": [
        {
          "output_type": "execute_result",
          "data": {
            "text/html": [
              "<div>\n",
              "<style scoped>\n",
              "    .dataframe tbody tr th:only-of-type {\n",
              "        vertical-align: middle;\n",
              "    }\n",
              "\n",
              "    .dataframe tbody tr th {\n",
              "        vertical-align: top;\n",
              "    }\n",
              "\n",
              "    .dataframe thead th {\n",
              "        text-align: right;\n",
              "    }\n",
              "</style>\n",
              "<table border=\"1\" class=\"dataframe\">\n",
              "  <thead>\n",
              "    <tr style=\"text-align: right;\">\n",
              "      <th></th>\n",
              "      <th>TV</th>\n",
              "      <th>Radio</th>\n",
              "      <th>Newspaper</th>\n",
              "      <th>Sales</th>\n",
              "    </tr>\n",
              "  </thead>\n",
              "  <tbody>\n",
              "    <tr>\n",
              "      <th>0</th>\n",
              "      <td>230.1</td>\n",
              "      <td>37.8</td>\n",
              "      <td>69.2</td>\n",
              "      <td>22.1</td>\n",
              "    </tr>\n",
              "    <tr>\n",
              "      <th>1</th>\n",
              "      <td>44.5</td>\n",
              "      <td>39.3</td>\n",
              "      <td>45.1</td>\n",
              "      <td>10.4</td>\n",
              "    </tr>\n",
              "    <tr>\n",
              "      <th>2</th>\n",
              "      <td>17.2</td>\n",
              "      <td>45.9</td>\n",
              "      <td>69.3</td>\n",
              "      <td>9.3</td>\n",
              "    </tr>\n",
              "    <tr>\n",
              "      <th>3</th>\n",
              "      <td>151.5</td>\n",
              "      <td>41.3</td>\n",
              "      <td>58.5</td>\n",
              "      <td>18.5</td>\n",
              "    </tr>\n",
              "    <tr>\n",
              "      <th>4</th>\n",
              "      <td>180.8</td>\n",
              "      <td>10.8</td>\n",
              "      <td>58.4</td>\n",
              "      <td>12.9</td>\n",
              "    </tr>\n",
              "  </tbody>\n",
              "</table>\n",
              "</div>"
            ],
            "text/plain": [
              "      TV  Radio  Newspaper  Sales\n",
              "0  230.1   37.8       69.2   22.1\n",
              "1   44.5   39.3       45.1   10.4\n",
              "2   17.2   45.9       69.3    9.3\n",
              "3  151.5   41.3       58.5   18.5\n",
              "4  180.8   10.8       58.4   12.9"
            ]
          },
          "metadata": {
            "tags": []
          },
          "execution_count": 2
        }
      ]
    },
    {
      "cell_type": "markdown",
      "metadata": {
        "id": "S2CmiXxFR6no"
      },
      "source": [
        "# sklearn : train_test_split"
      ]
    },
    {
      "cell_type": "code",
      "metadata": {
        "id": "o-8tR_B0R2kg"
      },
      "source": [
        "from sklearn.model_selection import train_test_split"
      ],
      "execution_count": 4,
      "outputs": []
    },
    {
      "cell_type": "code",
      "metadata": {
        "colab": {
          "base_uri": "https://localhost:8080/"
        },
        "id": "9DqySgyGSDzJ",
        "outputId": "e2b6cf24-6f6d-4bf8-90ee-dada5d8b0941"
      },
      "source": [
        "len(df)"
      ],
      "execution_count": 5,
      "outputs": [
        {
          "output_type": "execute_result",
          "data": {
            "text/plain": [
              "200"
            ]
          },
          "metadata": {
            "tags": []
          },
          "execution_count": 5
        }
      ]
    },
    {
      "cell_type": "markdown",
      "metadata": {
        "id": "nrrhRT3HSLgN"
      },
      "source": [
        "# method 1 : split into (train, test)"
      ]
    },
    {
      "cell_type": "code",
      "metadata": {
        "id": "Jb-pxDSqSIbN"
      },
      "source": [
        "train, test = train_test_split(df, train_size = 0.7 , random_state = 7)\r\n",
        "# train, test = train_test_split(df, test_size = 0.3)"
      ],
      "execution_count": 7,
      "outputs": []
    },
    {
      "cell_type": "code",
      "metadata": {
        "colab": {
          "base_uri": "https://localhost:8080/"
        },
        "id": "SV45I3WvShMI",
        "outputId": "b2000e96-4dc0-4163-a235-6799d419ec70"
      },
      "source": [
        "print(len(train))\r\n",
        "print(len(test))"
      ],
      "execution_count": 8,
      "outputs": [
        {
          "output_type": "stream",
          "text": [
            "140\n",
            "60\n"
          ],
          "name": "stdout"
        }
      ]
    },
    {
      "cell_type": "code",
      "metadata": {
        "colab": {
          "base_uri": "https://localhost:8080/",
          "height": 204
        },
        "id": "N9mMBqhySpnt",
        "outputId": "53be4402-cdbc-4869-f9fb-ccedbceaceda"
      },
      "source": [
        "train.head()"
      ],
      "execution_count": 9,
      "outputs": [
        {
          "output_type": "execute_result",
          "data": {
            "text/html": [
              "<div>\n",
              "<style scoped>\n",
              "    .dataframe tbody tr th:only-of-type {\n",
              "        vertical-align: middle;\n",
              "    }\n",
              "\n",
              "    .dataframe tbody tr th {\n",
              "        vertical-align: top;\n",
              "    }\n",
              "\n",
              "    .dataframe thead th {\n",
              "        text-align: right;\n",
              "    }\n",
              "</style>\n",
              "<table border=\"1\" class=\"dataframe\">\n",
              "  <thead>\n",
              "    <tr style=\"text-align: right;\">\n",
              "      <th></th>\n",
              "      <th>TV</th>\n",
              "      <th>Radio</th>\n",
              "      <th>Newspaper</th>\n",
              "      <th>Sales</th>\n",
              "    </tr>\n",
              "  </thead>\n",
              "  <tbody>\n",
              "    <tr>\n",
              "      <th>88</th>\n",
              "      <td>88.3</td>\n",
              "      <td>25.5</td>\n",
              "      <td>73.4</td>\n",
              "      <td>12.9</td>\n",
              "    </tr>\n",
              "    <tr>\n",
              "      <th>58</th>\n",
              "      <td>210.8</td>\n",
              "      <td>49.6</td>\n",
              "      <td>37.7</td>\n",
              "      <td>23.8</td>\n",
              "    </tr>\n",
              "    <tr>\n",
              "      <th>113</th>\n",
              "      <td>209.6</td>\n",
              "      <td>20.6</td>\n",
              "      <td>10.7</td>\n",
              "      <td>15.9</td>\n",
              "    </tr>\n",
              "    <tr>\n",
              "      <th>149</th>\n",
              "      <td>44.7</td>\n",
              "      <td>25.8</td>\n",
              "      <td>20.6</td>\n",
              "      <td>10.1</td>\n",
              "    </tr>\n",
              "    <tr>\n",
              "      <th>36</th>\n",
              "      <td>266.9</td>\n",
              "      <td>43.8</td>\n",
              "      <td>5.0</td>\n",
              "      <td>25.4</td>\n",
              "    </tr>\n",
              "  </tbody>\n",
              "</table>\n",
              "</div>"
            ],
            "text/plain": [
              "        TV  Radio  Newspaper  Sales\n",
              "88    88.3   25.5       73.4   12.9\n",
              "58   210.8   49.6       37.7   23.8\n",
              "113  209.6   20.6       10.7   15.9\n",
              "149   44.7   25.8       20.6   10.1\n",
              "36   266.9   43.8        5.0   25.4"
            ]
          },
          "metadata": {
            "tags": []
          },
          "execution_count": 9
        }
      ]
    },
    {
      "cell_type": "code",
      "metadata": {
        "colab": {
          "base_uri": "https://localhost:8080/",
          "height": 204
        },
        "id": "09CsIM5xStik",
        "outputId": "8612556c-9c48-4007-9099-a4f4f7bae9eb"
      },
      "source": [
        "test.head()"
      ],
      "execution_count": 10,
      "outputs": [
        {
          "output_type": "execute_result",
          "data": {
            "text/html": [
              "<div>\n",
              "<style scoped>\n",
              "    .dataframe tbody tr th:only-of-type {\n",
              "        vertical-align: middle;\n",
              "    }\n",
              "\n",
              "    .dataframe tbody tr th {\n",
              "        vertical-align: top;\n",
              "    }\n",
              "\n",
              "    .dataframe thead th {\n",
              "        text-align: right;\n",
              "    }\n",
              "</style>\n",
              "<table border=\"1\" class=\"dataframe\">\n",
              "  <thead>\n",
              "    <tr style=\"text-align: right;\">\n",
              "      <th></th>\n",
              "      <th>TV</th>\n",
              "      <th>Radio</th>\n",
              "      <th>Newspaper</th>\n",
              "      <th>Sales</th>\n",
              "    </tr>\n",
              "  </thead>\n",
              "  <tbody>\n",
              "    <tr>\n",
              "      <th>86</th>\n",
              "      <td>76.3</td>\n",
              "      <td>27.5</td>\n",
              "      <td>16.0</td>\n",
              "      <td>12.0</td>\n",
              "    </tr>\n",
              "    <tr>\n",
              "      <th>120</th>\n",
              "      <td>141.3</td>\n",
              "      <td>26.8</td>\n",
              "      <td>46.2</td>\n",
              "      <td>15.5</td>\n",
              "    </tr>\n",
              "    <tr>\n",
              "      <th>22</th>\n",
              "      <td>13.2</td>\n",
              "      <td>15.9</td>\n",
              "      <td>49.6</td>\n",
              "      <td>5.6</td>\n",
              "    </tr>\n",
              "    <tr>\n",
              "      <th>11</th>\n",
              "      <td>214.7</td>\n",
              "      <td>24.0</td>\n",
              "      <td>4.0</td>\n",
              "      <td>17.4</td>\n",
              "    </tr>\n",
              "    <tr>\n",
              "      <th>195</th>\n",
              "      <td>38.2</td>\n",
              "      <td>3.7</td>\n",
              "      <td>13.8</td>\n",
              "      <td>7.6</td>\n",
              "    </tr>\n",
              "  </tbody>\n",
              "</table>\n",
              "</div>"
            ],
            "text/plain": [
              "        TV  Radio  Newspaper  Sales\n",
              "86    76.3   27.5       16.0   12.0\n",
              "120  141.3   26.8       46.2   15.5\n",
              "22    13.2   15.9       49.6    5.6\n",
              "11   214.7   24.0        4.0   17.4\n",
              "195   38.2    3.7       13.8    7.6"
            ]
          },
          "metadata": {
            "tags": []
          },
          "execution_count": 10
        }
      ]
    },
    {
      "cell_type": "markdown",
      "metadata": {
        "id": "7zlqBt8UTCEP"
      },
      "source": [
        "# method 2 : split into (X_train, X_test, y_train, y_test)"
      ]
    },
    {
      "cell_type": "code",
      "metadata": {
        "colab": {
          "base_uri": "https://localhost:8080/"
        },
        "id": "Ktno1zkOSvM4",
        "outputId": "c7249440-08b7-42d2-d25a-78a44ba79e0e"
      },
      "source": [
        "df.columns"
      ],
      "execution_count": 11,
      "outputs": [
        {
          "output_type": "execute_result",
          "data": {
            "text/plain": [
              "Index(['TV', 'Radio', 'Newspaper', 'Sales'], dtype='object')"
            ]
          },
          "metadata": {
            "tags": []
          },
          "execution_count": 11
        }
      ]
    },
    {
      "cell_type": "code",
      "metadata": {
        "id": "RgI29fxxTJqw"
      },
      "source": [
        "X = df[[\"TV\", \"Radio\", \"Newspaper\"]]\r\n",
        "y = df[\"Sales\"]"
      ],
      "execution_count": 12,
      "outputs": []
    },
    {
      "cell_type": "code",
      "metadata": {
        "id": "YPyYaT8bTSjP"
      },
      "source": [
        "X_train, X_test, y_train, y_test = train_test_split(X, y,\r\n",
        "                                                    test_size = .3,\r\n",
        "                                                    random_state = 7)"
      ],
      "execution_count": 14,
      "outputs": []
    },
    {
      "cell_type": "code",
      "metadata": {
        "colab": {
          "base_uri": "https://localhost:8080/",
          "height": 204
        },
        "id": "Dnh5x5otTfcZ",
        "outputId": "846810f3-b0ff-4806-9a6a-3451ea670a15"
      },
      "source": [
        "X_train.head()"
      ],
      "execution_count": 15,
      "outputs": [
        {
          "output_type": "execute_result",
          "data": {
            "text/html": [
              "<div>\n",
              "<style scoped>\n",
              "    .dataframe tbody tr th:only-of-type {\n",
              "        vertical-align: middle;\n",
              "    }\n",
              "\n",
              "    .dataframe tbody tr th {\n",
              "        vertical-align: top;\n",
              "    }\n",
              "\n",
              "    .dataframe thead th {\n",
              "        text-align: right;\n",
              "    }\n",
              "</style>\n",
              "<table border=\"1\" class=\"dataframe\">\n",
              "  <thead>\n",
              "    <tr style=\"text-align: right;\">\n",
              "      <th></th>\n",
              "      <th>TV</th>\n",
              "      <th>Radio</th>\n",
              "      <th>Newspaper</th>\n",
              "    </tr>\n",
              "  </thead>\n",
              "  <tbody>\n",
              "    <tr>\n",
              "      <th>88</th>\n",
              "      <td>88.3</td>\n",
              "      <td>25.5</td>\n",
              "      <td>73.4</td>\n",
              "    </tr>\n",
              "    <tr>\n",
              "      <th>58</th>\n",
              "      <td>210.8</td>\n",
              "      <td>49.6</td>\n",
              "      <td>37.7</td>\n",
              "    </tr>\n",
              "    <tr>\n",
              "      <th>113</th>\n",
              "      <td>209.6</td>\n",
              "      <td>20.6</td>\n",
              "      <td>10.7</td>\n",
              "    </tr>\n",
              "    <tr>\n",
              "      <th>149</th>\n",
              "      <td>44.7</td>\n",
              "      <td>25.8</td>\n",
              "      <td>20.6</td>\n",
              "    </tr>\n",
              "    <tr>\n",
              "      <th>36</th>\n",
              "      <td>266.9</td>\n",
              "      <td>43.8</td>\n",
              "      <td>5.0</td>\n",
              "    </tr>\n",
              "  </tbody>\n",
              "</table>\n",
              "</div>"
            ],
            "text/plain": [
              "        TV  Radio  Newspaper\n",
              "88    88.3   25.5       73.4\n",
              "58   210.8   49.6       37.7\n",
              "113  209.6   20.6       10.7\n",
              "149   44.7   25.8       20.6\n",
              "36   266.9   43.8        5.0"
            ]
          },
          "metadata": {
            "tags": []
          },
          "execution_count": 15
        }
      ]
    },
    {
      "cell_type": "code",
      "metadata": {
        "colab": {
          "base_uri": "https://localhost:8080/",
          "height": 204
        },
        "id": "iC8dn4iCTlEA",
        "outputId": "3b024e93-624a-4795-a882-7985303afbc4"
      },
      "source": [
        "X_test.head()"
      ],
      "execution_count": 16,
      "outputs": [
        {
          "output_type": "execute_result",
          "data": {
            "text/html": [
              "<div>\n",
              "<style scoped>\n",
              "    .dataframe tbody tr th:only-of-type {\n",
              "        vertical-align: middle;\n",
              "    }\n",
              "\n",
              "    .dataframe tbody tr th {\n",
              "        vertical-align: top;\n",
              "    }\n",
              "\n",
              "    .dataframe thead th {\n",
              "        text-align: right;\n",
              "    }\n",
              "</style>\n",
              "<table border=\"1\" class=\"dataframe\">\n",
              "  <thead>\n",
              "    <tr style=\"text-align: right;\">\n",
              "      <th></th>\n",
              "      <th>TV</th>\n",
              "      <th>Radio</th>\n",
              "      <th>Newspaper</th>\n",
              "    </tr>\n",
              "  </thead>\n",
              "  <tbody>\n",
              "    <tr>\n",
              "      <th>86</th>\n",
              "      <td>76.3</td>\n",
              "      <td>27.5</td>\n",
              "      <td>16.0</td>\n",
              "    </tr>\n",
              "    <tr>\n",
              "      <th>120</th>\n",
              "      <td>141.3</td>\n",
              "      <td>26.8</td>\n",
              "      <td>46.2</td>\n",
              "    </tr>\n",
              "    <tr>\n",
              "      <th>22</th>\n",
              "      <td>13.2</td>\n",
              "      <td>15.9</td>\n",
              "      <td>49.6</td>\n",
              "    </tr>\n",
              "    <tr>\n",
              "      <th>11</th>\n",
              "      <td>214.7</td>\n",
              "      <td>24.0</td>\n",
              "      <td>4.0</td>\n",
              "    </tr>\n",
              "    <tr>\n",
              "      <th>195</th>\n",
              "      <td>38.2</td>\n",
              "      <td>3.7</td>\n",
              "      <td>13.8</td>\n",
              "    </tr>\n",
              "  </tbody>\n",
              "</table>\n",
              "</div>"
            ],
            "text/plain": [
              "        TV  Radio  Newspaper\n",
              "86    76.3   27.5       16.0\n",
              "120  141.3   26.8       46.2\n",
              "22    13.2   15.9       49.6\n",
              "11   214.7   24.0        4.0\n",
              "195   38.2    3.7       13.8"
            ]
          },
          "metadata": {
            "tags": []
          },
          "execution_count": 16
        }
      ]
    },
    {
      "cell_type": "code",
      "metadata": {
        "colab": {
          "base_uri": "https://localhost:8080/"
        },
        "id": "b7zdtRWZTnm1",
        "outputId": "445a4d56-317c-42aa-a154-5cab3f6abc75"
      },
      "source": [
        "y_train.head()"
      ],
      "execution_count": 17,
      "outputs": [
        {
          "output_type": "execute_result",
          "data": {
            "text/plain": [
              "88     12.9\n",
              "58     23.8\n",
              "113    15.9\n",
              "149    10.1\n",
              "36     25.4\n",
              "Name: Sales, dtype: float64"
            ]
          },
          "metadata": {
            "tags": []
          },
          "execution_count": 17
        }
      ]
    },
    {
      "cell_type": "code",
      "metadata": {
        "colab": {
          "base_uri": "https://localhost:8080/"
        },
        "id": "gYlVHDW2To-z",
        "outputId": "4151e917-154e-469a-c825-07a58118409d"
      },
      "source": [
        "y_test.head()"
      ],
      "execution_count": 19,
      "outputs": [
        {
          "output_type": "execute_result",
          "data": {
            "text/plain": [
              "86     12.0\n",
              "120    15.5\n",
              "22      5.6\n",
              "11     17.4\n",
              "195     7.6\n",
              "Name: Sales, dtype: float64"
            ]
          },
          "metadata": {
            "tags": []
          },
          "execution_count": 19
        }
      ]
    },
    {
      "cell_type": "markdown",
      "metadata": {
        "id": "VB366BXRT7-o"
      },
      "source": [
        "# LinearRegression"
      ]
    },
    {
      "cell_type": "code",
      "metadata": {
        "id": "vljlo6_9Tp1q"
      },
      "source": [
        "from sklearn.linear_model import LinearRegression"
      ],
      "execution_count": 20,
      "outputs": []
    },
    {
      "cell_type": "code",
      "metadata": {
        "colab": {
          "base_uri": "https://localhost:8080/"
        },
        "id": "QReZR0gfUFfm",
        "outputId": "21485f98-cc7c-4cb7-c4ce-8937c066ee43"
      },
      "source": [
        "model = LinearRegression()\r\n",
        "model"
      ],
      "execution_count": 22,
      "outputs": [
        {
          "output_type": "execute_result",
          "data": {
            "text/plain": [
              "LinearRegression(copy_X=True, fit_intercept=True, n_jobs=None, normalize=False)"
            ]
          },
          "metadata": {
            "tags": []
          },
          "execution_count": 22
        }
      ]
    },
    {
      "cell_type": "code",
      "metadata": {
        "colab": {
          "base_uri": "https://localhost:8080/"
        },
        "id": "aOdrya5pUHEX",
        "outputId": "d79b5252-f598-49c3-e3d0-5ad305a88a8f"
      },
      "source": [
        "model.fit(X_train, y_train)"
      ],
      "execution_count": 23,
      "outputs": [
        {
          "output_type": "execute_result",
          "data": {
            "text/plain": [
              "LinearRegression(copy_X=True, fit_intercept=True, n_jobs=None, normalize=False)"
            ]
          },
          "metadata": {
            "tags": []
          },
          "execution_count": 23
        }
      ]
    },
    {
      "cell_type": "code",
      "metadata": {
        "colab": {
          "base_uri": "https://localhost:8080/"
        },
        "id": "YMf3ZRNRUOT_",
        "outputId": "9d26fcc4-f6ef-42bb-c071-6aab6d02f328"
      },
      "source": [
        "model.score(X_train, y_train) # R-squared"
      ],
      "execution_count": 24,
      "outputs": [
        {
          "output_type": "execute_result",
          "data": {
            "text/plain": [
              "0.8970470429900155"
            ]
          },
          "metadata": {
            "tags": []
          },
          "execution_count": 24
        }
      ]
    },
    {
      "cell_type": "code",
      "metadata": {
        "colab": {
          "base_uri": "https://localhost:8080/"
        },
        "id": "xjtKWUIEUTAG",
        "outputId": "0c9e361a-1cdc-4253-fad6-41248d243831"
      },
      "source": [
        "model.intercept_"
      ],
      "execution_count": 25,
      "outputs": [
        {
          "output_type": "execute_result",
          "data": {
            "text/plain": [
              "2.5971913990213054"
            ]
          },
          "metadata": {
            "tags": []
          },
          "execution_count": 25
        }
      ]
    },
    {
      "cell_type": "code",
      "metadata": {
        "colab": {
          "base_uri": "https://localhost:8080/"
        },
        "id": "_VjSqNVXUWle",
        "outputId": "fb759c68-5386-4d6b-8985-811bce5f41a3"
      },
      "source": [
        "model.coef_"
      ],
      "execution_count": 26,
      "outputs": [
        {
          "output_type": "execute_result",
          "data": {
            "text/plain": [
              "array([ 4.71259657e-02,  1.90987993e-01, -1.93812266e-05])"
            ]
          },
          "metadata": {
            "tags": []
          },
          "execution_count": 26
        }
      ]
    },
    {
      "cell_type": "code",
      "metadata": {
        "colab": {
          "base_uri": "https://localhost:8080/"
        },
        "id": "wkXlRS1WUYxi",
        "outputId": "2ebf3dc0-6735-427b-c825-75a6e8250b47"
      },
      "source": [
        "model.predict([[200, 40, 70]])"
      ],
      "execution_count": 28,
      "outputs": [
        {
          "output_type": "execute_result",
          "data": {
            "text/plain": [
              "array([19.66054756])"
            ]
          },
          "metadata": {
            "tags": []
          },
          "execution_count": 28
        }
      ]
    },
    {
      "cell_type": "code",
      "metadata": {
        "colab": {
          "base_uri": "https://localhost:8080/"
        },
        "id": "3BOrPFfBUhs7",
        "outputId": "24e49ab4-ba7b-4690-ca17-eb57f71cdf17"
      },
      "source": [
        "y_hat = model.predict(X_train)\r\n",
        "y_hat"
      ],
      "execution_count": 29,
      "outputs": [
        {
          "output_type": "execute_result",
          "data": {
            "text/plain": [
              "array([11.62718541, 22.00361874, 16.40893908,  9.63081303, 23.54028882,\n",
              "        4.19019633,  6.33372661,  9.16205331, 18.6252243 ,  9.30278314,\n",
              "       10.02220298, 12.81990978, 16.3270569 , 15.55142217,  8.18788222,\n",
              "       17.73045095, 24.32738343,  7.98376479, 12.34504657, 23.42048119,\n",
              "       10.19514611, 17.25432468, 15.17745615, 16.45100472, 16.83421976,\n",
              "       16.94913148, 14.92719588, 12.08456358, 17.31673623, 20.75868218,\n",
              "       12.31079013, 14.68033357, 12.00487231,  4.23083643, 11.88897069,\n",
              "       18.47946596, 17.82345369, 10.62147609, 21.24463139,  3.40353011,\n",
              "       20.37338186,  9.53396325,  8.95973195, 10.92777341,  8.97930171,\n",
              "       17.62344551, 20.54153871, 12.60435152, 13.71875285, 17.33050151,\n",
              "       15.22001133, 20.47732861,  9.86186951, 14.93210984, 13.95134117,\n",
              "       12.31718956, 16.32085396,  7.16859379, 18.16059791, 20.91470709,\n",
              "       20.02490033, 18.17883475, 18.49821442, 17.0839661 , 19.35270232,\n",
              "        4.19833505, 12.50911724, 17.95656145,  6.91422545,  9.90447448,\n",
              "       10.42119071, 12.78028296, 21.82835372, 23.41577932,  6.56681082,\n",
              "       14.75847895, 13.47230131, 10.19313548, 13.92501901,  9.78331628,\n",
              "       21.80450967, 15.30617948, 18.93360192,  9.57166714, 14.29594599,\n",
              "       13.72711144, 15.006342  , 23.98232793, 13.89828935, 15.32931852,\n",
              "       10.47352554, 23.06533337, 17.07959565,  6.81947906, 12.30816114,\n",
              "       10.50213634, 18.4792284 , 21.39075666, 15.56684723,  9.95657766,\n",
              "       12.1992509 , 14.31888317,  5.78894815, 15.56692342, 21.01396414,\n",
              "       13.17910445,  9.72701965, 14.34014313,  7.37438608, 13.81839214,\n",
              "       16.35902724,  8.30717117, 21.19794648,  8.68760535, 14.10308899,\n",
              "       11.57088514, 21.40418995, 11.73806283, 20.65888105,  7.3593895 ,\n",
              "       13.84964647,  6.37651554, 20.07072522, 19.03685226, 13.33560266,\n",
              "       11.2519676 , 21.72370744, 14.80324095, 16.8998523 , 10.16239699,\n",
              "       16.58323865, 19.32853365, 20.87119297, 19.2534684 , 14.7368069 ,\n",
              "        9.90278852, 11.93096662, 15.65468781,  7.97214154, 24.98487401])"
            ]
          },
          "metadata": {
            "tags": []
          },
          "execution_count": 29
        }
      ]
    },
    {
      "cell_type": "code",
      "metadata": {
        "colab": {
          "base_uri": "https://localhost:8080/",
          "height": 204
        },
        "id": "liH6KyaIUrvS",
        "outputId": "3e810ebc-babf-4374-c5e9-ffcef61bf1ad"
      },
      "source": [
        "train = pd.concat([X_train, y_train], axis = \"columns\")\r\n",
        "train.head()"
      ],
      "execution_count": 32,
      "outputs": [
        {
          "output_type": "execute_result",
          "data": {
            "text/html": [
              "<div>\n",
              "<style scoped>\n",
              "    .dataframe tbody tr th:only-of-type {\n",
              "        vertical-align: middle;\n",
              "    }\n",
              "\n",
              "    .dataframe tbody tr th {\n",
              "        vertical-align: top;\n",
              "    }\n",
              "\n",
              "    .dataframe thead th {\n",
              "        text-align: right;\n",
              "    }\n",
              "</style>\n",
              "<table border=\"1\" class=\"dataframe\">\n",
              "  <thead>\n",
              "    <tr style=\"text-align: right;\">\n",
              "      <th></th>\n",
              "      <th>TV</th>\n",
              "      <th>Radio</th>\n",
              "      <th>Newspaper</th>\n",
              "      <th>Sales</th>\n",
              "    </tr>\n",
              "  </thead>\n",
              "  <tbody>\n",
              "    <tr>\n",
              "      <th>88</th>\n",
              "      <td>88.3</td>\n",
              "      <td>25.5</td>\n",
              "      <td>73.4</td>\n",
              "      <td>12.9</td>\n",
              "    </tr>\n",
              "    <tr>\n",
              "      <th>58</th>\n",
              "      <td>210.8</td>\n",
              "      <td>49.6</td>\n",
              "      <td>37.7</td>\n",
              "      <td>23.8</td>\n",
              "    </tr>\n",
              "    <tr>\n",
              "      <th>113</th>\n",
              "      <td>209.6</td>\n",
              "      <td>20.6</td>\n",
              "      <td>10.7</td>\n",
              "      <td>15.9</td>\n",
              "    </tr>\n",
              "    <tr>\n",
              "      <th>149</th>\n",
              "      <td>44.7</td>\n",
              "      <td>25.8</td>\n",
              "      <td>20.6</td>\n",
              "      <td>10.1</td>\n",
              "    </tr>\n",
              "    <tr>\n",
              "      <th>36</th>\n",
              "      <td>266.9</td>\n",
              "      <td>43.8</td>\n",
              "      <td>5.0</td>\n",
              "      <td>25.4</td>\n",
              "    </tr>\n",
              "  </tbody>\n",
              "</table>\n",
              "</div>"
            ],
            "text/plain": [
              "        TV  Radio  Newspaper  Sales\n",
              "88    88.3   25.5       73.4   12.9\n",
              "58   210.8   49.6       37.7   23.8\n",
              "113  209.6   20.6       10.7   15.9\n",
              "149   44.7   25.8       20.6   10.1\n",
              "36   266.9   43.8        5.0   25.4"
            ]
          },
          "metadata": {
            "tags": []
          },
          "execution_count": 32
        }
      ]
    },
    {
      "cell_type": "code",
      "metadata": {
        "colab": {
          "base_uri": "https://localhost:8080/",
          "height": 419
        },
        "id": "bB1NOTemU5h0",
        "outputId": "6e79537e-2e43-47d3-9c8b-913ab4c879f9"
      },
      "source": [
        "dc = pd.concat([train.reset_index(), pd.Series(y_hat, name = \"predicted\")], axis= \"columns\")\r\n",
        "dc"
      ],
      "execution_count": 33,
      "outputs": [
        {
          "output_type": "execute_result",
          "data": {
            "text/html": [
              "<div>\n",
              "<style scoped>\n",
              "    .dataframe tbody tr th:only-of-type {\n",
              "        vertical-align: middle;\n",
              "    }\n",
              "\n",
              "    .dataframe tbody tr th {\n",
              "        vertical-align: top;\n",
              "    }\n",
              "\n",
              "    .dataframe thead th {\n",
              "        text-align: right;\n",
              "    }\n",
              "</style>\n",
              "<table border=\"1\" class=\"dataframe\">\n",
              "  <thead>\n",
              "    <tr style=\"text-align: right;\">\n",
              "      <th></th>\n",
              "      <th>index</th>\n",
              "      <th>TV</th>\n",
              "      <th>Radio</th>\n",
              "      <th>Newspaper</th>\n",
              "      <th>Sales</th>\n",
              "      <th>predicted</th>\n",
              "    </tr>\n",
              "  </thead>\n",
              "  <tbody>\n",
              "    <tr>\n",
              "      <th>0</th>\n",
              "      <td>88</td>\n",
              "      <td>88.3</td>\n",
              "      <td>25.5</td>\n",
              "      <td>73.4</td>\n",
              "      <td>12.9</td>\n",
              "      <td>11.627185</td>\n",
              "    </tr>\n",
              "    <tr>\n",
              "      <th>1</th>\n",
              "      <td>58</td>\n",
              "      <td>210.8</td>\n",
              "      <td>49.6</td>\n",
              "      <td>37.7</td>\n",
              "      <td>23.8</td>\n",
              "      <td>22.003619</td>\n",
              "    </tr>\n",
              "    <tr>\n",
              "      <th>2</th>\n",
              "      <td>113</td>\n",
              "      <td>209.6</td>\n",
              "      <td>20.6</td>\n",
              "      <td>10.7</td>\n",
              "      <td>15.9</td>\n",
              "      <td>16.408939</td>\n",
              "    </tr>\n",
              "    <tr>\n",
              "      <th>3</th>\n",
              "      <td>149</td>\n",
              "      <td>44.7</td>\n",
              "      <td>25.8</td>\n",
              "      <td>20.6</td>\n",
              "      <td>10.1</td>\n",
              "      <td>9.630813</td>\n",
              "    </tr>\n",
              "    <tr>\n",
              "      <th>4</th>\n",
              "      <td>36</td>\n",
              "      <td>266.9</td>\n",
              "      <td>43.8</td>\n",
              "      <td>5.0</td>\n",
              "      <td>25.4</td>\n",
              "      <td>23.540289</td>\n",
              "    </tr>\n",
              "    <tr>\n",
              "      <th>...</th>\n",
              "      <td>...</td>\n",
              "      <td>...</td>\n",
              "      <td>...</td>\n",
              "      <td>...</td>\n",
              "      <td>...</td>\n",
              "      <td>...</td>\n",
              "    </tr>\n",
              "    <tr>\n",
              "      <th>135</th>\n",
              "      <td>151</td>\n",
              "      <td>121.0</td>\n",
              "      <td>8.4</td>\n",
              "      <td>48.7</td>\n",
              "      <td>11.6</td>\n",
              "      <td>9.902789</td>\n",
              "    </tr>\n",
              "    <tr>\n",
              "      <th>136</th>\n",
              "      <td>67</td>\n",
              "      <td>139.3</td>\n",
              "      <td>14.5</td>\n",
              "      <td>10.2</td>\n",
              "      <td>13.4</td>\n",
              "      <td>11.930967</td>\n",
              "    </tr>\n",
              "    <tr>\n",
              "      <th>137</th>\n",
              "      <td>25</td>\n",
              "      <td>262.9</td>\n",
              "      <td>3.5</td>\n",
              "      <td>19.5</td>\n",
              "      <td>12.0</td>\n",
              "      <td>15.654688</td>\n",
              "    </tr>\n",
              "    <tr>\n",
              "      <th>138</th>\n",
              "      <td>196</td>\n",
              "      <td>94.2</td>\n",
              "      <td>4.9</td>\n",
              "      <td>8.1</td>\n",
              "      <td>9.7</td>\n",
              "      <td>7.972142</td>\n",
              "    </tr>\n",
              "    <tr>\n",
              "      <th>139</th>\n",
              "      <td>175</td>\n",
              "      <td>276.9</td>\n",
              "      <td>48.9</td>\n",
              "      <td>41.8</td>\n",
              "      <td>27.0</td>\n",
              "      <td>24.984874</td>\n",
              "    </tr>\n",
              "  </tbody>\n",
              "</table>\n",
              "<p>140 rows × 6 columns</p>\n",
              "</div>"
            ],
            "text/plain": [
              "     index     TV  Radio  Newspaper  Sales  predicted\n",
              "0       88   88.3   25.5       73.4   12.9  11.627185\n",
              "1       58  210.8   49.6       37.7   23.8  22.003619\n",
              "2      113  209.6   20.6       10.7   15.9  16.408939\n",
              "3      149   44.7   25.8       20.6   10.1   9.630813\n",
              "4       36  266.9   43.8        5.0   25.4  23.540289\n",
              "..     ...    ...    ...        ...    ...        ...\n",
              "135    151  121.0    8.4       48.7   11.6   9.902789\n",
              "136     67  139.3   14.5       10.2   13.4  11.930967\n",
              "137     25  262.9    3.5       19.5   12.0  15.654688\n",
              "138    196   94.2    4.9        8.1    9.7   7.972142\n",
              "139    175  276.9   48.9       41.8   27.0  24.984874\n",
              "\n",
              "[140 rows x 6 columns]"
            ]
          },
          "metadata": {
            "tags": []
          },
          "execution_count": 33
        }
      ]
    },
    {
      "cell_type": "code",
      "metadata": {
        "colab": {
          "base_uri": "https://localhost:8080/"
        },
        "id": "WxFKvRrYVami",
        "outputId": "af2d06d1-6009-45ee-a266-136b537f6189"
      },
      "source": [
        "y_hat_test = model.predict(X_test)\r\n",
        "y_hat_test"
      ],
      "execution_count": 34,
      "outputs": [
        {
          "output_type": "execute_result",
          "data": {
            "text/plain": [
              "array([11.44476229, 14.37367315,  6.25500193, 17.29877053,  5.1037914 ,\n",
              "       12.17276377,  7.62662219, 10.33214076,  8.77992131, 13.09010986,\n",
              "        3.29044059, 12.57762584,  9.56979963,  7.62505392, 18.72987897,\n",
              "        5.0057581 ,  7.93923309, 16.93193167, 18.25136197,  8.71447974,\n",
              "       16.07575914, 19.69512239,  8.61453225, 17.3519232 ,  9.57182285,\n",
              "       18.01945212, 23.4962362 , 12.71455161, 19.77063344, 12.10705488,\n",
              "       12.68239566,  5.87563284, 14.18270814, 20.87041368, 19.5800746 ,\n",
              "       15.21483369, 10.39322617, 24.36171125, 11.29656239, 11.88775796,\n",
              "        7.69691954, 22.33739127,  5.49999179, 13.61147654, 17.10119141,\n",
              "       16.39861924, 15.14556732,  8.21775584, 11.24015588, 15.47711028,\n",
              "        7.46373581,  8.64334225,  6.35011873,  8.56203042, 15.64802928,\n",
              "       19.49746243,  9.7732074 , 18.48500068, 11.70700465, 15.32110391])"
            ]
          },
          "metadata": {
            "tags": []
          },
          "execution_count": 34
        }
      ]
    },
    {
      "cell_type": "code",
      "metadata": {
        "colab": {
          "base_uri": "https://localhost:8080/",
          "height": 204
        },
        "id": "Y_Ot-xQ1WIv1",
        "outputId": "ed0ccbc7-1ae9-4a27-e78f-aa69682638e7"
      },
      "source": [
        "test = pd.concat([X_test, y_test], axis= \"columns\")\r\n",
        "test.head()"
      ],
      "execution_count": 35,
      "outputs": [
        {
          "output_type": "execute_result",
          "data": {
            "text/html": [
              "<div>\n",
              "<style scoped>\n",
              "    .dataframe tbody tr th:only-of-type {\n",
              "        vertical-align: middle;\n",
              "    }\n",
              "\n",
              "    .dataframe tbody tr th {\n",
              "        vertical-align: top;\n",
              "    }\n",
              "\n",
              "    .dataframe thead th {\n",
              "        text-align: right;\n",
              "    }\n",
              "</style>\n",
              "<table border=\"1\" class=\"dataframe\">\n",
              "  <thead>\n",
              "    <tr style=\"text-align: right;\">\n",
              "      <th></th>\n",
              "      <th>TV</th>\n",
              "      <th>Radio</th>\n",
              "      <th>Newspaper</th>\n",
              "      <th>Sales</th>\n",
              "    </tr>\n",
              "  </thead>\n",
              "  <tbody>\n",
              "    <tr>\n",
              "      <th>86</th>\n",
              "      <td>76.3</td>\n",
              "      <td>27.5</td>\n",
              "      <td>16.0</td>\n",
              "      <td>12.0</td>\n",
              "    </tr>\n",
              "    <tr>\n",
              "      <th>120</th>\n",
              "      <td>141.3</td>\n",
              "      <td>26.8</td>\n",
              "      <td>46.2</td>\n",
              "      <td>15.5</td>\n",
              "    </tr>\n",
              "    <tr>\n",
              "      <th>22</th>\n",
              "      <td>13.2</td>\n",
              "      <td>15.9</td>\n",
              "      <td>49.6</td>\n",
              "      <td>5.6</td>\n",
              "    </tr>\n",
              "    <tr>\n",
              "      <th>11</th>\n",
              "      <td>214.7</td>\n",
              "      <td>24.0</td>\n",
              "      <td>4.0</td>\n",
              "      <td>17.4</td>\n",
              "    </tr>\n",
              "    <tr>\n",
              "      <th>195</th>\n",
              "      <td>38.2</td>\n",
              "      <td>3.7</td>\n",
              "      <td>13.8</td>\n",
              "      <td>7.6</td>\n",
              "    </tr>\n",
              "  </tbody>\n",
              "</table>\n",
              "</div>"
            ],
            "text/plain": [
              "        TV  Radio  Newspaper  Sales\n",
              "86    76.3   27.5       16.0   12.0\n",
              "120  141.3   26.8       46.2   15.5\n",
              "22    13.2   15.9       49.6    5.6\n",
              "11   214.7   24.0        4.0   17.4\n",
              "195   38.2    3.7       13.8    7.6"
            ]
          },
          "metadata": {
            "tags": []
          },
          "execution_count": 35
        }
      ]
    },
    {
      "cell_type": "code",
      "metadata": {
        "colab": {
          "base_uri": "https://localhost:8080/",
          "height": 204
        },
        "id": "jLdEjoMDWS7N",
        "outputId": "f76b8d4c-9fd6-4f30-fa56-50903299f7af"
      },
      "source": [
        "dt = pd.concat([test.reset_index(), pd.Series(y_hat_test, name = \"predicted\")], axis= \"columns\")\r\n",
        "dt.head()"
      ],
      "execution_count": 37,
      "outputs": [
        {
          "output_type": "execute_result",
          "data": {
            "text/html": [
              "<div>\n",
              "<style scoped>\n",
              "    .dataframe tbody tr th:only-of-type {\n",
              "        vertical-align: middle;\n",
              "    }\n",
              "\n",
              "    .dataframe tbody tr th {\n",
              "        vertical-align: top;\n",
              "    }\n",
              "\n",
              "    .dataframe thead th {\n",
              "        text-align: right;\n",
              "    }\n",
              "</style>\n",
              "<table border=\"1\" class=\"dataframe\">\n",
              "  <thead>\n",
              "    <tr style=\"text-align: right;\">\n",
              "      <th></th>\n",
              "      <th>index</th>\n",
              "      <th>TV</th>\n",
              "      <th>Radio</th>\n",
              "      <th>Newspaper</th>\n",
              "      <th>Sales</th>\n",
              "      <th>predicted</th>\n",
              "    </tr>\n",
              "  </thead>\n",
              "  <tbody>\n",
              "    <tr>\n",
              "      <th>0</th>\n",
              "      <td>86</td>\n",
              "      <td>76.3</td>\n",
              "      <td>27.5</td>\n",
              "      <td>16.0</td>\n",
              "      <td>12.0</td>\n",
              "      <td>11.444762</td>\n",
              "    </tr>\n",
              "    <tr>\n",
              "      <th>1</th>\n",
              "      <td>120</td>\n",
              "      <td>141.3</td>\n",
              "      <td>26.8</td>\n",
              "      <td>46.2</td>\n",
              "      <td>15.5</td>\n",
              "      <td>14.373673</td>\n",
              "    </tr>\n",
              "    <tr>\n",
              "      <th>2</th>\n",
              "      <td>22</td>\n",
              "      <td>13.2</td>\n",
              "      <td>15.9</td>\n",
              "      <td>49.6</td>\n",
              "      <td>5.6</td>\n",
              "      <td>6.255002</td>\n",
              "    </tr>\n",
              "    <tr>\n",
              "      <th>3</th>\n",
              "      <td>11</td>\n",
              "      <td>214.7</td>\n",
              "      <td>24.0</td>\n",
              "      <td>4.0</td>\n",
              "      <td>17.4</td>\n",
              "      <td>17.298771</td>\n",
              "    </tr>\n",
              "    <tr>\n",
              "      <th>4</th>\n",
              "      <td>195</td>\n",
              "      <td>38.2</td>\n",
              "      <td>3.7</td>\n",
              "      <td>13.8</td>\n",
              "      <td>7.6</td>\n",
              "      <td>5.103791</td>\n",
              "    </tr>\n",
              "  </tbody>\n",
              "</table>\n",
              "</div>"
            ],
            "text/plain": [
              "   index     TV  Radio  Newspaper  Sales  predicted\n",
              "0     86   76.3   27.5       16.0   12.0  11.444762\n",
              "1    120  141.3   26.8       46.2   15.5  14.373673\n",
              "2     22   13.2   15.9       49.6    5.6   6.255002\n",
              "3     11  214.7   24.0        4.0   17.4  17.298771\n",
              "4    195   38.2    3.7       13.8    7.6   5.103791"
            ]
          },
          "metadata": {
            "tags": []
          },
          "execution_count": 37
        }
      ]
    },
    {
      "cell_type": "code",
      "metadata": {
        "colab": {
          "base_uri": "https://localhost:8080/",
          "height": 235
        },
        "id": "7wehfRxmWvz1",
        "outputId": "e15011ae-e0a9-412f-f295-9f0728cd1ec3"
      },
      "source": [
        "dt.corr()"
      ],
      "execution_count": 38,
      "outputs": [
        {
          "output_type": "execute_result",
          "data": {
            "text/html": [
              "<div>\n",
              "<style scoped>\n",
              "    .dataframe tbody tr th:only-of-type {\n",
              "        vertical-align: middle;\n",
              "    }\n",
              "\n",
              "    .dataframe tbody tr th {\n",
              "        vertical-align: top;\n",
              "    }\n",
              "\n",
              "    .dataframe thead th {\n",
              "        text-align: right;\n",
              "    }\n",
              "</style>\n",
              "<table border=\"1\" class=\"dataframe\">\n",
              "  <thead>\n",
              "    <tr style=\"text-align: right;\">\n",
              "      <th></th>\n",
              "      <th>index</th>\n",
              "      <th>TV</th>\n",
              "      <th>Radio</th>\n",
              "      <th>Newspaper</th>\n",
              "      <th>Sales</th>\n",
              "      <th>predicted</th>\n",
              "    </tr>\n",
              "  </thead>\n",
              "  <tbody>\n",
              "    <tr>\n",
              "      <th>index</th>\n",
              "      <td>1.000000</td>\n",
              "      <td>0.216008</td>\n",
              "      <td>-0.091564</td>\n",
              "      <td>0.001199</td>\n",
              "      <td>0.095705</td>\n",
              "      <td>0.128056</td>\n",
              "    </tr>\n",
              "    <tr>\n",
              "      <th>TV</th>\n",
              "      <td>0.216008</td>\n",
              "      <td>1.000000</td>\n",
              "      <td>0.128668</td>\n",
              "      <td>0.079286</td>\n",
              "      <td>0.812386</td>\n",
              "      <td>0.868771</td>\n",
              "    </tr>\n",
              "    <tr>\n",
              "      <th>Radio</th>\n",
              "      <td>-0.091564</td>\n",
              "      <td>0.128668</td>\n",
              "      <td>1.000000</td>\n",
              "      <td>0.364127</td>\n",
              "      <td>0.587212</td>\n",
              "      <td>0.602880</td>\n",
              "    </tr>\n",
              "    <tr>\n",
              "      <th>Newspaper</th>\n",
              "      <td>0.001199</td>\n",
              "      <td>0.079286</td>\n",
              "      <td>0.364127</td>\n",
              "      <td>1.000000</td>\n",
              "      <td>0.227696</td>\n",
              "      <td>0.245546</td>\n",
              "    </tr>\n",
              "    <tr>\n",
              "      <th>Sales</th>\n",
              "      <td>0.095705</td>\n",
              "      <td>0.812386</td>\n",
              "      <td>0.587212</td>\n",
              "      <td>0.227696</td>\n",
              "      <td>1.000000</td>\n",
              "      <td>0.946814</td>\n",
              "    </tr>\n",
              "    <tr>\n",
              "      <th>predicted</th>\n",
              "      <td>0.128056</td>\n",
              "      <td>0.868771</td>\n",
              "      <td>0.602880</td>\n",
              "      <td>0.245546</td>\n",
              "      <td>0.946814</td>\n",
              "      <td>1.000000</td>\n",
              "    </tr>\n",
              "  </tbody>\n",
              "</table>\n",
              "</div>"
            ],
            "text/plain": [
              "              index        TV     Radio  Newspaper     Sales  predicted\n",
              "index      1.000000  0.216008 -0.091564   0.001199  0.095705   0.128056\n",
              "TV         0.216008  1.000000  0.128668   0.079286  0.812386   0.868771\n",
              "Radio     -0.091564  0.128668  1.000000   0.364127  0.587212   0.602880\n",
              "Newspaper  0.001199  0.079286  0.364127   1.000000  0.227696   0.245546\n",
              "Sales      0.095705  0.812386  0.587212   0.227696  1.000000   0.946814\n",
              "predicted  0.128056  0.868771  0.602880   0.245546  0.946814   1.000000"
            ]
          },
          "metadata": {
            "tags": []
          },
          "execution_count": 38
        }
      ]
    },
    {
      "cell_type": "markdown",
      "metadata": {
        "id": "aFLxNQgBXQ06"
      },
      "source": [
        "# Statmodels : Simple Linear regression"
      ]
    },
    {
      "cell_type": "code",
      "metadata": {
        "id": "NHV6KuXNXBeh"
      },
      "source": [
        "train, test = train_test_split(df, train_size = 0.7, random_state = 7)"
      ],
      "execution_count": 39,
      "outputs": []
    },
    {
      "cell_type": "code",
      "metadata": {
        "id": "4lufuiRiXc5w"
      },
      "source": [
        "import statsmodels.api as sm\r\n",
        "import statsmodels.formula.api as smf"
      ],
      "execution_count": 41,
      "outputs": []
    },
    {
      "cell_type": "code",
      "metadata": {
        "id": "NTNjIiJjXj31"
      },
      "source": [
        "model_a = smf.ols(formula=\"Sales ~ TV + Radio + Newspaper\", data = train).fit()"
      ],
      "execution_count": 42,
      "outputs": []
    },
    {
      "cell_type": "code",
      "metadata": {
        "colab": {
          "base_uri": "https://localhost:8080/"
        },
        "id": "P-xsjQbLX2K6",
        "outputId": "52bd1a43-3051-4e15-fb93-3bdcc4085764"
      },
      "source": [
        "print(model_a.summary())"
      ],
      "execution_count": 44,
      "outputs": [
        {
          "output_type": "stream",
          "text": [
            "                            OLS Regression Results                            \n",
            "==============================================================================\n",
            "Dep. Variable:                  Sales   R-squared:                       0.897\n",
            "Model:                            OLS   Adj. R-squared:                  0.895\n",
            "Method:                 Least Squares   F-statistic:                     395.0\n",
            "Date:                Wed, 10 Feb 2021   Prob (F-statistic):           6.42e-67\n",
            "Time:                        05:17:43   Log-Likelihood:                -271.78\n",
            "No. Observations:                 140   AIC:                             551.6\n",
            "Df Residuals:                     136   BIC:                             563.3\n",
            "Df Model:                           3                                         \n",
            "Covariance Type:            nonrobust                                         \n",
            "==============================================================================\n",
            "                 coef    std err          t      P>|t|      [0.025      0.975]\n",
            "------------------------------------------------------------------------------\n",
            "Intercept      2.5972      0.398      6.533      0.000       1.811       3.383\n",
            "TV             0.0471      0.002     27.669      0.000       0.044       0.050\n",
            "Radio          0.1910      0.010     18.885      0.000       0.171       0.211\n",
            "Newspaper  -1.938e-05      0.007     -0.003      0.998      -0.014       0.014\n",
            "==============================================================================\n",
            "Omnibus:                       49.785   Durbin-Watson:                   2.062\n",
            "Prob(Omnibus):                  0.000   Jarque-Bera (JB):              135.914\n",
            "Skew:                          -1.399   Prob(JB):                     3.07e-30\n",
            "Kurtosis:                       6.933   Cond. No.                         487.\n",
            "==============================================================================\n",
            "\n",
            "Warnings:\n",
            "[1] Standard Errors assume that the covariance matrix of the errors is correctly specified.\n"
          ],
          "name": "stdout"
        }
      ]
    },
    {
      "cell_type": "code",
      "metadata": {
        "colab": {
          "base_uri": "https://localhost:8080/"
        },
        "id": "jQFEQrcVX5Bt",
        "outputId": "1c25b6d3-3dd4-4743-f954-dd9faddcc656"
      },
      "source": [
        "model_a.params # coef"
      ],
      "execution_count": 45,
      "outputs": [
        {
          "output_type": "execute_result",
          "data": {
            "text/plain": [
              "Intercept    2.597191\n",
              "TV           0.047126\n",
              "Radio        0.190988\n",
              "Newspaper   -0.000019\n",
              "dtype: float64"
            ]
          },
          "metadata": {
            "tags": []
          },
          "execution_count": 45
        }
      ]
    },
    {
      "cell_type": "code",
      "metadata": {
        "colab": {
          "base_uri": "https://localhost:8080/"
        },
        "id": "zXkg-lSTYFcK",
        "outputId": "e76fc99f-b687-4b25-a881-f51313a460b8"
      },
      "source": [
        "model_a.pvalues"
      ],
      "execution_count": 46,
      "outputs": [
        {
          "output_type": "execute_result",
          "data": {
            "text/plain": [
              "Intercept    1.189005e-09\n",
              "TV           1.024402e-57\n",
              "Radio        7.808066e-40\n",
              "Newspaper    9.978470e-01\n",
              "dtype: float64"
            ]
          },
          "metadata": {
            "tags": []
          },
          "execution_count": 46
        }
      ]
    },
    {
      "cell_type": "code",
      "metadata": {
        "id": "b0bdiq8BYMfs"
      },
      "source": [
        ""
      ],
      "execution_count": null,
      "outputs": []
    }
  ]
}